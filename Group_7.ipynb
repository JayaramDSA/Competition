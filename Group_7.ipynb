{
 "cells": [
  {
   "cell_type": "markdown",
   "id": "1c20adad",
   "metadata": {},
   "source": [
    "# Competition \n",
    "## Domain : HR Analytics"
   ]
  },
  {
   "cell_type": "markdown",
   "id": "dcc18918",
   "metadata": {},
   "source": [
    "## Submitted by Group - 7"
   ]
  },
  {
   "cell_type": "markdown",
   "id": "660b2451",
   "metadata": {},
   "source": [
    "## Contributors : Fen Francis Pereira, Jayaram K, Ashmina T."
   ]
  },
  {
   "cell_type": "markdown",
   "id": "86c93bc3",
   "metadata": {},
   "source": [
    "**Objective:**\n",
    " 1) Data collection from given domain\n",
    "\n",
    " 2) Pre-processing \n",
    "    \n",
    "         2.1)Missing values handling\n",
    "         2.2)Outlier detection and handling\n",
    "         2.3)Encoding\n",
    "         2.4)Feature reduction\n",
    "         2.5)Standardization/Normalization\n",
    "         2.6)Feature engineering\n",
    "      \n",
    " 3) Exploratory data analysis \n",
    "\n",
    "       3.1)Univariate analysis\n",
    "       3.2)Bivariate analysis\n",
    "        \n",
    " 4) Modelling \n",
    "\n",
    " 5) Model fine tuning"
   ]
  },
  {
   "cell_type": "markdown",
   "id": "67751c01",
   "metadata": {},
   "source": [
    "# 1. Data collection from given domain"
   ]
  },
  {
   "cell_type": "markdown",
   "id": "9837e82a",
   "metadata": {},
   "source": [
    "The domain assigned to our group is HR Analytics. "
   ]
  },
  {
   "cell_type": "markdown",
   "id": "b81dc95d",
   "metadata": {},
   "source": [
    "Since it is HR related, we selected a dataset with which we can predict the Employee Attrition."
   ]
  },
  {
   "cell_type": "markdown",
   "id": "afd99e59",
   "metadata": {},
   "source": [
    "We will now start the process of building Supervised learning model using this data set. "
   ]
  },
  {
   "cell_type": "code",
   "execution_count": 136,
   "id": "3fc01d88",
   "metadata": {},
   "outputs": [],
   "source": [
    "# Importing the necessary libraries\n",
    "import numpy as np\n",
    "import pandas as pd\n",
    "import matplotlib.pyplot as plt\n",
    "import seaborn as sns"
   ]
  },
  {
   "cell_type": "code",
   "execution_count": 137,
   "id": "e77978f1",
   "metadata": {},
   "outputs": [],
   "source": [
    "# Load the dataset into python environment\n",
    "data = pd.read_csv('HR_Engagement_Sat.csv')"
   ]
  },
  {
   "cell_type": "code",
   "execution_count": 138,
   "id": "4f582b23",
   "metadata": {},
   "outputs": [
    {
     "data": {
      "text/html": [
       "<div>\n",
       "<style scoped>\n",
       "    .dataframe tbody tr th:only-of-type {\n",
       "        vertical-align: middle;\n",
       "    }\n",
       "\n",
       "    .dataframe tbody tr th {\n",
       "        vertical-align: top;\n",
       "    }\n",
       "\n",
       "    .dataframe thead th {\n",
       "        text-align: right;\n",
       "    }\n",
       "</style>\n",
       "<table border=\"1\" class=\"dataframe\">\n",
       "  <thead>\n",
       "    <tr style=\"text-align: right;\">\n",
       "      <th></th>\n",
       "      <th>ID</th>\n",
       "      <th>Name</th>\n",
       "      <th>Department</th>\n",
       "      <th>GEO</th>\n",
       "      <th>Role</th>\n",
       "      <th>Rising_Star</th>\n",
       "      <th>Will_Relocate</th>\n",
       "      <th>Critical</th>\n",
       "      <th>Trending Perf</th>\n",
       "      <th>Talent_Level</th>\n",
       "      <th>Validated_Talent_Level</th>\n",
       "      <th>Percent_Remote</th>\n",
       "      <th>EMP_Sat_OnPrem_1</th>\n",
       "      <th>EMP_Sat_OnPrem_2</th>\n",
       "      <th>EMP_Sat_OnPrem_3</th>\n",
       "      <th>EMP_Sat_OnPrem_4</th>\n",
       "      <th>EMP_Sat_OnPrem_5</th>\n",
       "      <th>EMP_Sat_Remote_1</th>\n",
       "      <th>EMP_Sat_Remote_2</th>\n",
       "      <th>EMP_Sat_Remote_3</th>\n",
       "      <th>EMP_Sat_Remote_4</th>\n",
       "      <th>EMP_Sat_Remote_5</th>\n",
       "      <th>EMP_Engagement_1</th>\n",
       "      <th>EMP_Engagement_2</th>\n",
       "      <th>EMP_Engagement_3</th>\n",
       "      <th>EMP_Engagement_4</th>\n",
       "      <th>EMP_Engagement_5</th>\n",
       "      <th>last_evaluation</th>\n",
       "      <th>number_project</th>\n",
       "      <th>average_montly_hours</th>\n",
       "      <th>time_spend_company</th>\n",
       "      <th>Work_accident</th>\n",
       "      <th>left_Company</th>\n",
       "      <th>CSR Factor</th>\n",
       "      <th>promotion_last_5years</th>\n",
       "      <th>sales</th>\n",
       "      <th>salary</th>\n",
       "      <th>Gender</th>\n",
       "      <th>LinkedIn_Hits</th>\n",
       "      <th>Emp_Work_Status2</th>\n",
       "      <th>Emp_Work_Status_3</th>\n",
       "      <th>Emp_Work_Status_4</th>\n",
       "      <th>Emp_Work_Status_5</th>\n",
       "      <th>Emp_Identity</th>\n",
       "      <th>Emp_Role</th>\n",
       "      <th>Emp_Position</th>\n",
       "      <th>Emp_Title</th>\n",
       "      <th>Women_Leave</th>\n",
       "      <th>Men_Leave</th>\n",
       "      <th>Emp_Competitive_1</th>\n",
       "      <th>Emp_Competitive_2</th>\n",
       "      <th>Emp_Competitive_3</th>\n",
       "      <th>Emp_Competitive_4</th>\n",
       "      <th>Emp_Competitive_5</th>\n",
       "      <th>Emp_Collaborative_1</th>\n",
       "      <th>Emp_Collaborative_2</th>\n",
       "      <th>Emp_Collaborative_3</th>\n",
       "      <th>Emp_Collaborative_4</th>\n",
       "      <th>Emp_Collaborative_5</th>\n",
       "      <th>Sensor_StepCount</th>\n",
       "      <th>Sensor_Heartbeat(Average/Min)</th>\n",
       "      <th>Sensor_Proximity(1-highest/10-lowest)</th>\n",
       "    </tr>\n",
       "  </thead>\n",
       "  <tbody>\n",
       "    <tr>\n",
       "      <th>0</th>\n",
       "      <td>1</td>\n",
       "      <td>BRADDY</td>\n",
       "      <td>Operations</td>\n",
       "      <td>US</td>\n",
       "      <td>VP</td>\n",
       "      <td>NaN</td>\n",
       "      <td>0</td>\n",
       "      <td>1.0</td>\n",
       "      <td>3</td>\n",
       "      <td>6</td>\n",
       "      <td>6</td>\n",
       "      <td>0.4</td>\n",
       "      <td>3.0</td>\n",
       "      <td>3.0</td>\n",
       "      <td>4.0</td>\n",
       "      <td>3.0</td>\n",
       "      <td>5.0</td>\n",
       "      <td>2</td>\n",
       "      <td>3</td>\n",
       "      <td>2</td>\n",
       "      <td>3</td>\n",
       "      <td>2</td>\n",
       "      <td>5</td>\n",
       "      <td>5</td>\n",
       "      <td>4</td>\n",
       "      <td>4</td>\n",
       "      <td>3</td>\n",
       "      <td>0.36</td>\n",
       "      <td>3</td>\n",
       "      <td>168</td>\n",
       "      <td>3</td>\n",
       "      <td>1</td>\n",
       "      <td>0</td>\n",
       "      <td>NaN</td>\n",
       "      <td>0</td>\n",
       "      <td>sales</td>\n",
       "      <td>low</td>\n",
       "      <td>M</td>\n",
       "      <td>5</td>\n",
       "      <td>4</td>\n",
       "      <td>3</td>\n",
       "      <td>1</td>\n",
       "      <td>1</td>\n",
       "      <td>1</td>\n",
       "      <td>1</td>\n",
       "      <td>2</td>\n",
       "      <td>1</td>\n",
       "      <td>NaN</td>\n",
       "      <td>1.0</td>\n",
       "      <td>2</td>\n",
       "      <td>4</td>\n",
       "      <td>2</td>\n",
       "      <td>2</td>\n",
       "      <td>2</td>\n",
       "      <td>2</td>\n",
       "      <td>2</td>\n",
       "      <td>2</td>\n",
       "      <td>1</td>\n",
       "      <td>5</td>\n",
       "      <td>1841</td>\n",
       "      <td>61</td>\n",
       "      <td>9</td>\n",
       "    </tr>\n",
       "    <tr>\n",
       "      <th>1</th>\n",
       "      <td>2</td>\n",
       "      <td>BORST</td>\n",
       "      <td>Sales</td>\n",
       "      <td>UK</td>\n",
       "      <td>Senior Director</td>\n",
       "      <td>NaN</td>\n",
       "      <td>0</td>\n",
       "      <td>NaN</td>\n",
       "      <td>3</td>\n",
       "      <td>6</td>\n",
       "      <td>6</td>\n",
       "      <td>0.4</td>\n",
       "      <td>3.0</td>\n",
       "      <td>3.0</td>\n",
       "      <td>4.0</td>\n",
       "      <td>3.0</td>\n",
       "      <td>5.0</td>\n",
       "      <td>2</td>\n",
       "      <td>3</td>\n",
       "      <td>2</td>\n",
       "      <td>3</td>\n",
       "      <td>2</td>\n",
       "      <td>5</td>\n",
       "      <td>5</td>\n",
       "      <td>4</td>\n",
       "      <td>4</td>\n",
       "      <td>3</td>\n",
       "      <td>0.36</td>\n",
       "      <td>5</td>\n",
       "      <td>159</td>\n",
       "      <td>2</td>\n",
       "      <td>0</td>\n",
       "      <td>0</td>\n",
       "      <td>NaN</td>\n",
       "      <td>0</td>\n",
       "      <td>accounting</td>\n",
       "      <td>low</td>\n",
       "      <td>F</td>\n",
       "      <td>58</td>\n",
       "      <td>3</td>\n",
       "      <td>3</td>\n",
       "      <td>4</td>\n",
       "      <td>3</td>\n",
       "      <td>2</td>\n",
       "      <td>1</td>\n",
       "      <td>2</td>\n",
       "      <td>1</td>\n",
       "      <td>0.0</td>\n",
       "      <td>NaN</td>\n",
       "      <td>2</td>\n",
       "      <td>2</td>\n",
       "      <td>1</td>\n",
       "      <td>4</td>\n",
       "      <td>1</td>\n",
       "      <td>3</td>\n",
       "      <td>2</td>\n",
       "      <td>5</td>\n",
       "      <td>1</td>\n",
       "      <td>5</td>\n",
       "      <td>1990</td>\n",
       "      <td>90</td>\n",
       "      <td>8</td>\n",
       "    </tr>\n",
       "    <tr>\n",
       "      <th>2</th>\n",
       "      <td>3</td>\n",
       "      <td>BIRDWELL</td>\n",
       "      <td>Finance</td>\n",
       "      <td>France</td>\n",
       "      <td>Senior Director</td>\n",
       "      <td>NaN</td>\n",
       "      <td>0</td>\n",
       "      <td>NaN</td>\n",
       "      <td>3</td>\n",
       "      <td>6</td>\n",
       "      <td>6</td>\n",
       "      <td>0.4</td>\n",
       "      <td>3.0</td>\n",
       "      <td>3.0</td>\n",
       "      <td>4.0</td>\n",
       "      <td>3.0</td>\n",
       "      <td>5.0</td>\n",
       "      <td>2</td>\n",
       "      <td>3</td>\n",
       "      <td>2</td>\n",
       "      <td>3</td>\n",
       "      <td>2</td>\n",
       "      <td>5</td>\n",
       "      <td>5</td>\n",
       "      <td>4</td>\n",
       "      <td>4</td>\n",
       "      <td>3</td>\n",
       "      <td>0.36</td>\n",
       "      <td>2</td>\n",
       "      <td>282</td>\n",
       "      <td>3</td>\n",
       "      <td>0</td>\n",
       "      <td>0</td>\n",
       "      <td>NaN</td>\n",
       "      <td>0</td>\n",
       "      <td>product_mng</td>\n",
       "      <td>medium</td>\n",
       "      <td>F</td>\n",
       "      <td>42</td>\n",
       "      <td>2</td>\n",
       "      <td>4</td>\n",
       "      <td>1</td>\n",
       "      <td>3</td>\n",
       "      <td>1</td>\n",
       "      <td>1</td>\n",
       "      <td>2</td>\n",
       "      <td>2</td>\n",
       "      <td>1.0</td>\n",
       "      <td>NaN</td>\n",
       "      <td>1</td>\n",
       "      <td>5</td>\n",
       "      <td>1</td>\n",
       "      <td>2</td>\n",
       "      <td>5</td>\n",
       "      <td>2</td>\n",
       "      <td>2</td>\n",
       "      <td>4</td>\n",
       "      <td>4</td>\n",
       "      <td>4</td>\n",
       "      <td>3193</td>\n",
       "      <td>80</td>\n",
       "      <td>8</td>\n",
       "    </tr>\n",
       "    <tr>\n",
       "      <th>3</th>\n",
       "      <td>4</td>\n",
       "      <td>BENT</td>\n",
       "      <td>Human Resources</td>\n",
       "      <td>China</td>\n",
       "      <td>Senior Director</td>\n",
       "      <td>NaN</td>\n",
       "      <td>0</td>\n",
       "      <td>NaN</td>\n",
       "      <td>3</td>\n",
       "      <td>6</td>\n",
       "      <td>6</td>\n",
       "      <td>0.4</td>\n",
       "      <td>3.0</td>\n",
       "      <td>3.0</td>\n",
       "      <td>4.0</td>\n",
       "      <td>3.0</td>\n",
       "      <td>5.0</td>\n",
       "      <td>2</td>\n",
       "      <td>3</td>\n",
       "      <td>2</td>\n",
       "      <td>3</td>\n",
       "      <td>2</td>\n",
       "      <td>5</td>\n",
       "      <td>5</td>\n",
       "      <td>4</td>\n",
       "      <td>4</td>\n",
       "      <td>3</td>\n",
       "      <td>0.36</td>\n",
       "      <td>4</td>\n",
       "      <td>278</td>\n",
       "      <td>4</td>\n",
       "      <td>1</td>\n",
       "      <td>0</td>\n",
       "      <td>NaN</td>\n",
       "      <td>0</td>\n",
       "      <td>product_mng</td>\n",
       "      <td>high</td>\n",
       "      <td>M</td>\n",
       "      <td>37</td>\n",
       "      <td>3</td>\n",
       "      <td>1</td>\n",
       "      <td>4</td>\n",
       "      <td>5</td>\n",
       "      <td>2</td>\n",
       "      <td>1</td>\n",
       "      <td>2</td>\n",
       "      <td>1</td>\n",
       "      <td>NaN</td>\n",
       "      <td>1.0</td>\n",
       "      <td>1</td>\n",
       "      <td>1</td>\n",
       "      <td>2</td>\n",
       "      <td>5</td>\n",
       "      <td>1</td>\n",
       "      <td>1</td>\n",
       "      <td>2</td>\n",
       "      <td>4</td>\n",
       "      <td>4</td>\n",
       "      <td>1</td>\n",
       "      <td>3248</td>\n",
       "      <td>77</td>\n",
       "      <td>6</td>\n",
       "    </tr>\n",
       "    <tr>\n",
       "      <th>4</th>\n",
       "      <td>5</td>\n",
       "      <td>BAZAN</td>\n",
       "      <td>IT</td>\n",
       "      <td>Korea</td>\n",
       "      <td>Director</td>\n",
       "      <td>NaN</td>\n",
       "      <td>0</td>\n",
       "      <td>NaN</td>\n",
       "      <td>3</td>\n",
       "      <td>6</td>\n",
       "      <td>6</td>\n",
       "      <td>0.4</td>\n",
       "      <td>3.0</td>\n",
       "      <td>3.0</td>\n",
       "      <td>4.0</td>\n",
       "      <td>3.0</td>\n",
       "      <td>5.0</td>\n",
       "      <td>2</td>\n",
       "      <td>3</td>\n",
       "      <td>2</td>\n",
       "      <td>3</td>\n",
       "      <td>2</td>\n",
       "      <td>5</td>\n",
       "      <td>5</td>\n",
       "      <td>4</td>\n",
       "      <td>4</td>\n",
       "      <td>3</td>\n",
       "      <td>0.36</td>\n",
       "      <td>6</td>\n",
       "      <td>256</td>\n",
       "      <td>5</td>\n",
       "      <td>0</td>\n",
       "      <td>0</td>\n",
       "      <td>NaN</td>\n",
       "      <td>0</td>\n",
       "      <td>sales</td>\n",
       "      <td>low</td>\n",
       "      <td>F</td>\n",
       "      <td>6</td>\n",
       "      <td>4</td>\n",
       "      <td>5</td>\n",
       "      <td>4</td>\n",
       "      <td>5</td>\n",
       "      <td>1</td>\n",
       "      <td>1</td>\n",
       "      <td>2</td>\n",
       "      <td>1</td>\n",
       "      <td>1.0</td>\n",
       "      <td>NaN</td>\n",
       "      <td>1</td>\n",
       "      <td>4</td>\n",
       "      <td>1</td>\n",
       "      <td>5</td>\n",
       "      <td>3</td>\n",
       "      <td>5</td>\n",
       "      <td>1</td>\n",
       "      <td>2</td>\n",
       "      <td>5</td>\n",
       "      <td>4</td>\n",
       "      <td>3149</td>\n",
       "      <td>80</td>\n",
       "      <td>10</td>\n",
       "    </tr>\n",
       "  </tbody>\n",
       "</table>\n",
       "</div>"
      ],
      "text/plain": [
       "   ID      Name       Department     GEO             Role  Rising_Star  \\\n",
       "0   1    BRADDY       Operations      US               VP          NaN   \n",
       "1   2     BORST            Sales      UK  Senior Director          NaN   \n",
       "2   3  BIRDWELL          Finance  France  Senior Director          NaN   \n",
       "3   4      BENT  Human Resources   China  Senior Director          NaN   \n",
       "4   5     BAZAN               IT   Korea         Director          NaN   \n",
       "\n",
       "   Will_Relocate  Critical  Trending Perf  Talent_Level  \\\n",
       "0              0       1.0              3             6   \n",
       "1              0       NaN              3             6   \n",
       "2              0       NaN              3             6   \n",
       "3              0       NaN              3             6   \n",
       "4              0       NaN              3             6   \n",
       "\n",
       "   Validated_Talent_Level  Percent_Remote  EMP_Sat_OnPrem_1  EMP_Sat_OnPrem_2  \\\n",
       "0                       6             0.4               3.0               3.0   \n",
       "1                       6             0.4               3.0               3.0   \n",
       "2                       6             0.4               3.0               3.0   \n",
       "3                       6             0.4               3.0               3.0   \n",
       "4                       6             0.4               3.0               3.0   \n",
       "\n",
       "   EMP_Sat_OnPrem_3  EMP_Sat_OnPrem_4  EMP_Sat_OnPrem_5  EMP_Sat_Remote_1  \\\n",
       "0               4.0               3.0               5.0                 2   \n",
       "1               4.0               3.0               5.0                 2   \n",
       "2               4.0               3.0               5.0                 2   \n",
       "3               4.0               3.0               5.0                 2   \n",
       "4               4.0               3.0               5.0                 2   \n",
       "\n",
       "   EMP_Sat_Remote_2  EMP_Sat_Remote_3  EMP_Sat_Remote_4  EMP_Sat_Remote_5  \\\n",
       "0                 3                 2                 3                 2   \n",
       "1                 3                 2                 3                 2   \n",
       "2                 3                 2                 3                 2   \n",
       "3                 3                 2                 3                 2   \n",
       "4                 3                 2                 3                 2   \n",
       "\n",
       "   EMP_Engagement_1  EMP_Engagement_2  EMP_Engagement_3  EMP_Engagement_4  \\\n",
       "0                 5                 5                 4                 4   \n",
       "1                 5                 5                 4                 4   \n",
       "2                 5                 5                 4                 4   \n",
       "3                 5                 5                 4                 4   \n",
       "4                 5                 5                 4                 4   \n",
       "\n",
       "   EMP_Engagement_5  last_evaluation  number_project  average_montly_hours  \\\n",
       "0                 3             0.36               3                   168   \n",
       "1                 3             0.36               5                   159   \n",
       "2                 3             0.36               2                   282   \n",
       "3                 3             0.36               4                   278   \n",
       "4                 3             0.36               6                   256   \n",
       "\n",
       "   time_spend_company  Work_accident  left_Company  CSR Factor  \\\n",
       "0                   3              1             0         NaN   \n",
       "1                   2              0             0         NaN   \n",
       "2                   3              0             0         NaN   \n",
       "3                   4              1             0         NaN   \n",
       "4                   5              0             0         NaN   \n",
       "\n",
       "   promotion_last_5years        sales  salary Gender  LinkedIn_Hits  \\\n",
       "0                      0        sales     low      M              5   \n",
       "1                      0   accounting     low      F             58   \n",
       "2                      0  product_mng  medium      F             42   \n",
       "3                      0  product_mng    high      M             37   \n",
       "4                      0        sales     low      F              6   \n",
       "\n",
       "   Emp_Work_Status2  Emp_Work_Status_3  Emp_Work_Status_4  Emp_Work_Status_5  \\\n",
       "0                 4                  3                  1                  1   \n",
       "1                 3                  3                  4                  3   \n",
       "2                 2                  4                  1                  3   \n",
       "3                 3                  1                  4                  5   \n",
       "4                 4                  5                  4                  5   \n",
       "\n",
       "   Emp_Identity  Emp_Role  Emp_Position  Emp_Title  Women_Leave  Men_Leave  \\\n",
       "0             1         1             2          1          NaN        1.0   \n",
       "1             2         1             2          1          0.0        NaN   \n",
       "2             1         1             2          2          1.0        NaN   \n",
       "3             2         1             2          1          NaN        1.0   \n",
       "4             1         1             2          1          1.0        NaN   \n",
       "\n",
       "   Emp_Competitive_1  Emp_Competitive_2  Emp_Competitive_3  Emp_Competitive_4  \\\n",
       "0                  2                  4                  2                  2   \n",
       "1                  2                  2                  1                  4   \n",
       "2                  1                  5                  1                  2   \n",
       "3                  1                  1                  2                  5   \n",
       "4                  1                  4                  1                  5   \n",
       "\n",
       "   Emp_Competitive_5  Emp_Collaborative_1  Emp_Collaborative_2  \\\n",
       "0                  2                    2                    2   \n",
       "1                  1                    3                    2   \n",
       "2                  5                    2                    2   \n",
       "3                  1                    1                    2   \n",
       "4                  3                    5                    1   \n",
       "\n",
       "   Emp_Collaborative_3  Emp_Collaborative_4  Emp_Collaborative_5  \\\n",
       "0                    2                    1                    5   \n",
       "1                    5                    1                    5   \n",
       "2                    4                    4                    4   \n",
       "3                    4                    4                    1   \n",
       "4                    2                    5                    4   \n",
       "\n",
       "   Sensor_StepCount  Sensor_Heartbeat(Average/Min)  \\\n",
       "0              1841                             61   \n",
       "1              1990                             90   \n",
       "2              3193                             80   \n",
       "3              3248                             77   \n",
       "4              3149                             80   \n",
       "\n",
       "   Sensor_Proximity(1-highest/10-lowest)  \n",
       "0                                      9  \n",
       "1                                      8  \n",
       "2                                      8  \n",
       "3                                      6  \n",
       "4                                     10  "
      ]
     },
     "execution_count": 138,
     "metadata": {},
     "output_type": "execute_result"
    }
   ],
   "source": [
    "# To display entire columns\n",
    "pd.pandas.set_option('display.max_columns',None)\n",
    "# Displaying first 5 five rows\n",
    "data.head(5)"
   ]
  },
  {
   "cell_type": "code",
   "execution_count": 139,
   "id": "c59c597d",
   "metadata": {},
   "outputs": [
    {
     "data": {
      "text/plain": [
       "(14999, 62)"
      ]
     },
     "execution_count": 139,
     "metadata": {},
     "output_type": "execute_result"
    }
   ],
   "source": [
    "data.shape"
   ]
  },
  {
   "cell_type": "markdown",
   "id": "c3997ba7",
   "metadata": {},
   "source": [
    "- Data set is containing 62 columns and 14999 rows."
   ]
  },
  {
   "cell_type": "markdown",
   "id": "fd1f3585",
   "metadata": {},
   "source": [
    "### Data description:\n",
    "\n",
    "1.\tID : Employee ID\n",
    "2.\tName: Employee Name  \n",
    "3.\tDepartment: The functional department that the employee belongs to.\n",
    "4.\tGEO: The working geography that the employee belongs to in a matrix organization.\n",
    "5.\tRole: The employee's position or title.\n",
    "6.\tRising_Star: Indicates the level of promise or promote-ability the employee has.\n",
    "7.\tWill_Relocate: Is the employee willing to relocate?\n",
    "8.\tCritical: Is the employee critical to the organization?\n",
    "9.\tTrending Perf: How is the employee trending in performance this year?\n",
    "10.\tTalent_Level: This field represents a subjective level of management's view of the employee.\n",
    "11.\tValidated_Talent_Level: This field senior managements view of what the manager stated.\n",
    "12.\tPercent_Remote: The percentage of the employee's work that is done remotely.\n",
    "\n",
    "13.\tEMP_Sat_OnPrem_1 One indicator from a survey that was sent to employees by a third party. On prem (On premise) means that the employee maintains a high percentage of work on the corporation’s physical work locations.\n",
    "14.\tEMP_Sat_OnPrem_2 One indicator from a survey that was sent to employees by a third party. On prem (On premise) means that the employee maintains a high percentage of work on the corporation’s physical work locations.\n",
    "15.\tEMP_Sat_OnPrem_3 One indicator from a survey that was sent to employees by a third party. On prem (On premise) means that the employee maintains a high percentage of work on the corporation’s physical work locations.\n",
    "16.\tEMP_Sat_OnPrem_4 One indicator from a survey that was sent to employees by a third party. On prem (On premise) means that the employee maintains a high percentage of work on the corporation’s physical work locations.\n",
    "17.\tEMP_Sat_OnPrem_5 One indicator from a survey that was sent to employees by a third party. On prem (On premise) means that the employee maintains a high percentage of work on the corporation’s physical work locations.\n",
    "\n",
    "18.\tEMP_Sat_Remote_1 One indicator from a survey that was sent to employees by a third party. Remote (distance employee) means that the employee does a high percentage of work away from the corporation’s physical work locations.\n",
    "19.\tEMP_Sat_Remote_2 One indicator from a survey that was sent to employees by a third party. Remote (distance employee) means that the employee does a high percentage of work away from the corporation’s physical work locations.\n",
    "20.\tEMP_Sat_Remote_3 One indicator from a survey that was sent to employees by a third party. Remote (distance employee) means that the employee does a high percentage of work away from the corporation’s physical work locations.\n",
    "21.\tEMP_Sat_Remote_4 One indicator from a survey that was sent to employees by a third party. Remote (distance employee) means that the employee does a high percentage of work away from the corporation’s physical work locations.\n",
    "22.\tEMP_Sat_Remote_5 One indicator from a survey that was sent to employees by a third party. Remote (distance employee) means that the employee does a high percentage of work away from the corporation’s physical work locations.\n",
    "\n",
    "23.\tEMP_Engagement_1 One indicator from a survey that was sent to employees by a third party. Engagement represents the employee's feeling about how they feel about being engaged in company activities.\n",
    "24.\tEMP_Engagement_2 One indicator from a survey that was sent to employees by a third party. Engagement represents the employee's feeling about how they feel about being engaged in company activities.\n",
    "25.\tEMP_Engagement_3 One indicator from a survey that was sent to employees by a third party. Engagement represents the employee's feeling about how they feel about being engaged in company activities.\n",
    "26.\tEMP_Engagement_4 One indicator from a survey that was sent to employees by a third party. Engagement represents the employee's feeling about how they feel about being engaged in company activities.\n",
    "27.\tEMP_Engagement_5 One indicator from a survey that was sent to employees by a third party. Engagement represents the employee's feeling about how they feel about being engaged in company activities.\n",
    "\n",
    "28.\tlast_evaluation: The score on the last employee evaluation.\n",
    "29.\tnumber_project: The number of projects the employee works on throughout the year.\n",
    "30.\taverage_montly_hours: The average number of hours the employee works.\n",
    "31.\ttime_spend_company: Years of service.\n",
    "32.\tWork_accident: The number of accidents the employee is involved in.\n",
    "33.\tleft_Company: Did the employee leave the company?\n",
    "34.\tCSR Factor: Ignore\n",
    "35.\tpromotion_last_5years: Did the employee get promoted in last 5 years?\n",
    "36.\tsales: Ignore\n",
    "\n",
    "37.\tsalary: Relative pay grade (low, medium, high) by role.\n",
    "\n",
    "38.\tGender: Gender or how the person identifies.\n",
    "\n",
    "39.\tLinkedIn_Hits The number of times employee visits LinkedIn networking sites.\n",
    "\n",
    "40.\tEmp_Work_Status2 One indicator from a survey that was sent to employees by a third party. Status represents how strongly employee feels about their status level in the organization.\n",
    "41.\tEmp_Work_Status_3 One indicator from a survey that was sent to employees by a third party. Status represents how strongly employee feels about their status level in the organization.\n",
    "42.\tEmp_Work_Status_4 One indicator from a survey that was sent to employees by a third party. Status represents how strongly employee feels about their status level in the organization.\n",
    "43.\tEmp_Work_Status_5 One indicator from a survey that was sent to employees by a third party. Status represents how strongly employee feels about their status level in the organization.\n",
    "\n",
    "44.\tEmp_Identity How the employee identifies themselves with the company.\n",
    "45.\tEmp_Role How the employee identifies themselves with the importance of their role in the company.\n",
    "46.\tEmp_Position How the employee identifies themselves with the importance of their position in the company.\n",
    "47.\tEmp_Title: How the employee feels about their title.\n",
    "\n",
    "48.\tWomen_Leave: Women who left the company.\n",
    "49.\tMen_Leave: Men who left the company.\n",
    "\n",
    "50.\tEmp_Competitive_1 One indicator from a survey that was sent to employees by a third party. How employee feels about the competitive nature of work in the organization.\n",
    "51.\tEmp_Competitive_2 One indicator from a survey that was sent to employees by a third party. How employee feels about the competitive nature of work in the organization.\n",
    "52.\tEmp_Competitive_3 One indicator from a survey that was sent to employees by a third party. How employee feels about the competitive nature of work in the organization.\n",
    "53.\tEmp_Competitive_4 One indicator from a survey that was sent to employees by a third party. How employee feels about the competitive nature of work in the organization.\n",
    "54.\tEmp_Competitive_5 One indicator from a survey that was sent to employees by a third party. How employee feels about the competitive nature of work in the organization.\n",
    "\n",
    "55.\tEmp_Collaborative_1 One indicator from a survey that was sent to employees by a third party. How employee feels about the collaborative nature of work in the organization.\n",
    "56.\tEmp_Collaborative_2 One indicator from a survey that was sent to employees by a third party. How employee feels about the collaborative nature of work in the organization.\n",
    "57.\tEmp_Collaborative_3 One indicator from a survey that was sent to employees by a third party. How employee feels about the collaborative nature of work in the organization.\n",
    "58.\tEmp_Collaborative_4 One indicator from a survey that was sent to employees by a third party. How employee feels about the collaborative nature of work in the organization.\n",
    "59.\tEmp_Collaborative_5 One indicator from a survey that was sent to employees by a third party. How employee feels about the collaborative nature of work in the organization.\n",
    "\n",
    "60.\tSensor_StepCount: Sentient devices are used to capture certain employee activities. In this case number of steps.\n",
    "61.\tSensor_Heartbeat(Average/Min): Sentient devices are used to capture certain employee activities. In this case heartbeat.\n",
    "62.\tSensor_Proximity(1-highest/10-lowest): Sentient devices are used to capture certain employee activities. In this case how close they are to their company laptop.\n"
   ]
  },
  {
   "cell_type": "markdown",
   "id": "1d123abf",
   "metadata": {},
   "source": [
    "# 2a. Pre-processing (1st Stage)"
   ]
  },
  {
   "cell_type": "markdown",
   "id": "e7a79644",
   "metadata": {},
   "source": [
    "### 2.1. Missing values handling"
   ]
  },
  {
   "cell_type": "code",
   "execution_count": 140,
   "id": "f5e36a98",
   "metadata": {},
   "outputs": [
    {
     "data": {
      "text/plain": [
       "Name                    2\n",
       "Rising_Star         14978\n",
       "Critical            14519\n",
       "EMP_Sat_OnPrem_1      128\n",
       "EMP_Sat_OnPrem_2      128\n",
       "EMP_Sat_OnPrem_3      128\n",
       "EMP_Sat_OnPrem_4      128\n",
       "EMP_Sat_OnPrem_5      128\n",
       "CSR Factor          13286\n",
       "Women_Leave          7403\n",
       "Men_Leave           10134\n",
       "dtype: int64"
      ]
     },
     "execution_count": 140,
     "metadata": {},
     "output_type": "execute_result"
    }
   ],
   "source": [
    "# Checking for Null values in the data\n",
    "nan_columns = data[data.columns[data.isnull().any()]]\n",
    "nan_columns.isnull().sum()"
   ]
  },
  {
   "cell_type": "markdown",
   "id": "fbab4e0f",
   "metadata": {},
   "source": [
    "- There are null values present in the data set. We need to handle these missing values effectively. "
   ]
  },
  {
   "cell_type": "markdown",
   "id": "5c50e232",
   "metadata": {},
   "source": [
    "### 2.2. Feature engineering"
   ]
  },
  {
   "cell_type": "markdown",
   "id": "e3cfb3ac",
   "metadata": {},
   "source": [
    "We will create a new feature named 'Satisfaction', which indicate the employee satisfaction score.  \n",
    "Our dataset is containing different survey results to understand the employee satisfaction. \n",
    "Employees were provided with different questions to evaluate their satisfaction and they gave a rating between 1 - 5.\n",
    "We will use this survey results to calculate the employee satisfaction score."
   ]
  },
  {
   "cell_type": "code",
   "execution_count": 141,
   "id": "4f801de0",
   "metadata": {},
   "outputs": [
    {
     "data": {
      "text/html": [
       "<div>\n",
       "<style scoped>\n",
       "    .dataframe tbody tr th:only-of-type {\n",
       "        vertical-align: middle;\n",
       "    }\n",
       "\n",
       "    .dataframe tbody tr th {\n",
       "        vertical-align: top;\n",
       "    }\n",
       "\n",
       "    .dataframe thead th {\n",
       "        text-align: right;\n",
       "    }\n",
       "</style>\n",
       "<table border=\"1\" class=\"dataframe\">\n",
       "  <thead>\n",
       "    <tr style=\"text-align: right;\">\n",
       "      <th></th>\n",
       "      <th>EMP_Sat_OnPrem_1</th>\n",
       "      <th>EMP_Sat_OnPrem_2</th>\n",
       "      <th>EMP_Sat_OnPrem_3</th>\n",
       "      <th>EMP_Sat_OnPrem_4</th>\n",
       "      <th>EMP_Sat_OnPrem_5</th>\n",
       "      <th>EMP_Sat_Remote_1</th>\n",
       "      <th>EMP_Sat_Remote_2</th>\n",
       "      <th>EMP_Sat_Remote_3</th>\n",
       "      <th>EMP_Sat_Remote_4</th>\n",
       "      <th>EMP_Sat_Remote_5</th>\n",
       "      <th>EMP_Engagement_1</th>\n",
       "      <th>EMP_Engagement_2</th>\n",
       "      <th>EMP_Engagement_3</th>\n",
       "      <th>EMP_Engagement_4</th>\n",
       "      <th>EMP_Engagement_5</th>\n",
       "      <th>Emp_Work_Status2</th>\n",
       "      <th>Emp_Work_Status_3</th>\n",
       "      <th>Emp_Work_Status_4</th>\n",
       "      <th>Emp_Work_Status_5</th>\n",
       "      <th>Emp_Identity</th>\n",
       "      <th>Emp_Role</th>\n",
       "      <th>Emp_Position</th>\n",
       "      <th>Emp_Title</th>\n",
       "      <th>Emp_Competitive_1</th>\n",
       "      <th>Emp_Competitive_2</th>\n",
       "      <th>Emp_Competitive_3</th>\n",
       "      <th>Emp_Competitive_4</th>\n",
       "      <th>Emp_Competitive_5</th>\n",
       "      <th>Emp_Collaborative_1</th>\n",
       "      <th>Emp_Collaborative_2</th>\n",
       "      <th>Emp_Collaborative_3</th>\n",
       "      <th>Emp_Collaborative_4</th>\n",
       "      <th>Emp_Collaborative_5</th>\n",
       "    </tr>\n",
       "  </thead>\n",
       "  <tbody>\n",
       "    <tr>\n",
       "      <th>0</th>\n",
       "      <td>3.0</td>\n",
       "      <td>3.0</td>\n",
       "      <td>4.0</td>\n",
       "      <td>3.0</td>\n",
       "      <td>5.0</td>\n",
       "      <td>2</td>\n",
       "      <td>3</td>\n",
       "      <td>2</td>\n",
       "      <td>3</td>\n",
       "      <td>2</td>\n",
       "      <td>5</td>\n",
       "      <td>5</td>\n",
       "      <td>4</td>\n",
       "      <td>4</td>\n",
       "      <td>3</td>\n",
       "      <td>4</td>\n",
       "      <td>3</td>\n",
       "      <td>1</td>\n",
       "      <td>1</td>\n",
       "      <td>1</td>\n",
       "      <td>1</td>\n",
       "      <td>2</td>\n",
       "      <td>1</td>\n",
       "      <td>2</td>\n",
       "      <td>4</td>\n",
       "      <td>2</td>\n",
       "      <td>2</td>\n",
       "      <td>2</td>\n",
       "      <td>2</td>\n",
       "      <td>2</td>\n",
       "      <td>2</td>\n",
       "      <td>1</td>\n",
       "      <td>5</td>\n",
       "    </tr>\n",
       "    <tr>\n",
       "      <th>1</th>\n",
       "      <td>3.0</td>\n",
       "      <td>3.0</td>\n",
       "      <td>4.0</td>\n",
       "      <td>3.0</td>\n",
       "      <td>5.0</td>\n",
       "      <td>2</td>\n",
       "      <td>3</td>\n",
       "      <td>2</td>\n",
       "      <td>3</td>\n",
       "      <td>2</td>\n",
       "      <td>5</td>\n",
       "      <td>5</td>\n",
       "      <td>4</td>\n",
       "      <td>4</td>\n",
       "      <td>3</td>\n",
       "      <td>3</td>\n",
       "      <td>3</td>\n",
       "      <td>4</td>\n",
       "      <td>3</td>\n",
       "      <td>2</td>\n",
       "      <td>1</td>\n",
       "      <td>2</td>\n",
       "      <td>1</td>\n",
       "      <td>2</td>\n",
       "      <td>2</td>\n",
       "      <td>1</td>\n",
       "      <td>4</td>\n",
       "      <td>1</td>\n",
       "      <td>3</td>\n",
       "      <td>2</td>\n",
       "      <td>5</td>\n",
       "      <td>1</td>\n",
       "      <td>5</td>\n",
       "    </tr>\n",
       "    <tr>\n",
       "      <th>2</th>\n",
       "      <td>3.0</td>\n",
       "      <td>3.0</td>\n",
       "      <td>4.0</td>\n",
       "      <td>3.0</td>\n",
       "      <td>5.0</td>\n",
       "      <td>2</td>\n",
       "      <td>3</td>\n",
       "      <td>2</td>\n",
       "      <td>3</td>\n",
       "      <td>2</td>\n",
       "      <td>5</td>\n",
       "      <td>5</td>\n",
       "      <td>4</td>\n",
       "      <td>4</td>\n",
       "      <td>3</td>\n",
       "      <td>2</td>\n",
       "      <td>4</td>\n",
       "      <td>1</td>\n",
       "      <td>3</td>\n",
       "      <td>1</td>\n",
       "      <td>1</td>\n",
       "      <td>2</td>\n",
       "      <td>2</td>\n",
       "      <td>1</td>\n",
       "      <td>5</td>\n",
       "      <td>1</td>\n",
       "      <td>2</td>\n",
       "      <td>5</td>\n",
       "      <td>2</td>\n",
       "      <td>2</td>\n",
       "      <td>4</td>\n",
       "      <td>4</td>\n",
       "      <td>4</td>\n",
       "    </tr>\n",
       "    <tr>\n",
       "      <th>3</th>\n",
       "      <td>3.0</td>\n",
       "      <td>3.0</td>\n",
       "      <td>4.0</td>\n",
       "      <td>3.0</td>\n",
       "      <td>5.0</td>\n",
       "      <td>2</td>\n",
       "      <td>3</td>\n",
       "      <td>2</td>\n",
       "      <td>3</td>\n",
       "      <td>2</td>\n",
       "      <td>5</td>\n",
       "      <td>5</td>\n",
       "      <td>4</td>\n",
       "      <td>4</td>\n",
       "      <td>3</td>\n",
       "      <td>3</td>\n",
       "      <td>1</td>\n",
       "      <td>4</td>\n",
       "      <td>5</td>\n",
       "      <td>2</td>\n",
       "      <td>1</td>\n",
       "      <td>2</td>\n",
       "      <td>1</td>\n",
       "      <td>1</td>\n",
       "      <td>1</td>\n",
       "      <td>2</td>\n",
       "      <td>5</td>\n",
       "      <td>1</td>\n",
       "      <td>1</td>\n",
       "      <td>2</td>\n",
       "      <td>4</td>\n",
       "      <td>4</td>\n",
       "      <td>1</td>\n",
       "    </tr>\n",
       "    <tr>\n",
       "      <th>4</th>\n",
       "      <td>3.0</td>\n",
       "      <td>3.0</td>\n",
       "      <td>4.0</td>\n",
       "      <td>3.0</td>\n",
       "      <td>5.0</td>\n",
       "      <td>2</td>\n",
       "      <td>3</td>\n",
       "      <td>2</td>\n",
       "      <td>3</td>\n",
       "      <td>2</td>\n",
       "      <td>5</td>\n",
       "      <td>5</td>\n",
       "      <td>4</td>\n",
       "      <td>4</td>\n",
       "      <td>3</td>\n",
       "      <td>4</td>\n",
       "      <td>5</td>\n",
       "      <td>4</td>\n",
       "      <td>5</td>\n",
       "      <td>1</td>\n",
       "      <td>1</td>\n",
       "      <td>2</td>\n",
       "      <td>1</td>\n",
       "      <td>1</td>\n",
       "      <td>4</td>\n",
       "      <td>1</td>\n",
       "      <td>5</td>\n",
       "      <td>3</td>\n",
       "      <td>5</td>\n",
       "      <td>1</td>\n",
       "      <td>2</td>\n",
       "      <td>5</td>\n",
       "      <td>4</td>\n",
       "    </tr>\n",
       "  </tbody>\n",
       "</table>\n",
       "</div>"
      ],
      "text/plain": [
       "   EMP_Sat_OnPrem_1  EMP_Sat_OnPrem_2  EMP_Sat_OnPrem_3  EMP_Sat_OnPrem_4  \\\n",
       "0               3.0               3.0               4.0               3.0   \n",
       "1               3.0               3.0               4.0               3.0   \n",
       "2               3.0               3.0               4.0               3.0   \n",
       "3               3.0               3.0               4.0               3.0   \n",
       "4               3.0               3.0               4.0               3.0   \n",
       "\n",
       "   EMP_Sat_OnPrem_5  EMP_Sat_Remote_1  EMP_Sat_Remote_2  EMP_Sat_Remote_3  \\\n",
       "0               5.0                 2                 3                 2   \n",
       "1               5.0                 2                 3                 2   \n",
       "2               5.0                 2                 3                 2   \n",
       "3               5.0                 2                 3                 2   \n",
       "4               5.0                 2                 3                 2   \n",
       "\n",
       "   EMP_Sat_Remote_4  EMP_Sat_Remote_5  EMP_Engagement_1  EMP_Engagement_2  \\\n",
       "0                 3                 2                 5                 5   \n",
       "1                 3                 2                 5                 5   \n",
       "2                 3                 2                 5                 5   \n",
       "3                 3                 2                 5                 5   \n",
       "4                 3                 2                 5                 5   \n",
       "\n",
       "   EMP_Engagement_3  EMP_Engagement_4  EMP_Engagement_5  Emp_Work_Status2  \\\n",
       "0                 4                 4                 3                 4   \n",
       "1                 4                 4                 3                 3   \n",
       "2                 4                 4                 3                 2   \n",
       "3                 4                 4                 3                 3   \n",
       "4                 4                 4                 3                 4   \n",
       "\n",
       "   Emp_Work_Status_3  Emp_Work_Status_4  Emp_Work_Status_5  Emp_Identity  \\\n",
       "0                  3                  1                  1             1   \n",
       "1                  3                  4                  3             2   \n",
       "2                  4                  1                  3             1   \n",
       "3                  1                  4                  5             2   \n",
       "4                  5                  4                  5             1   \n",
       "\n",
       "   Emp_Role  Emp_Position  Emp_Title  Emp_Competitive_1  Emp_Competitive_2  \\\n",
       "0         1             2          1                  2                  4   \n",
       "1         1             2          1                  2                  2   \n",
       "2         1             2          2                  1                  5   \n",
       "3         1             2          1                  1                  1   \n",
       "4         1             2          1                  1                  4   \n",
       "\n",
       "   Emp_Competitive_3  Emp_Competitive_4  Emp_Competitive_5  \\\n",
       "0                  2                  2                  2   \n",
       "1                  1                  4                  1   \n",
       "2                  1                  2                  5   \n",
       "3                  2                  5                  1   \n",
       "4                  1                  5                  3   \n",
       "\n",
       "   Emp_Collaborative_1  Emp_Collaborative_2  Emp_Collaborative_3  \\\n",
       "0                    2                    2                    2   \n",
       "1                    3                    2                    5   \n",
       "2                    2                    2                    4   \n",
       "3                    1                    2                    4   \n",
       "4                    5                    1                    2   \n",
       "\n",
       "   Emp_Collaborative_4  Emp_Collaborative_5  \n",
       "0                    1                    5  \n",
       "1                    1                    5  \n",
       "2                    4                    4  \n",
       "3                    4                    1  \n",
       "4                    5                    4  "
      ]
     },
     "execution_count": 141,
     "metadata": {},
     "output_type": "execute_result"
    }
   ],
   "source": [
    "satisfaction = data[['EMP_Sat_OnPrem_1','EMP_Sat_OnPrem_2', 'EMP_Sat_OnPrem_3', 'EMP_Sat_OnPrem_4','EMP_Sat_OnPrem_5', 'EMP_Sat_Remote_1', 'EMP_Sat_Remote_2','EMP_Sat_Remote_3', 'EMP_Sat_Remote_4', 'EMP_Sat_Remote_5','EMP_Engagement_1', 'EMP_Engagement_2', 'EMP_Engagement_3','EMP_Engagement_4', 'EMP_Engagement_5','Emp_Work_Status2', 'Emp_Work_Status_3', 'Emp_Work_Status_4',       'Emp_Work_Status_5', 'Emp_Identity', 'Emp_Role', 'Emp_Position',\n",
    "       'Emp_Title', 'Emp_Competitive_1', 'Emp_Competitive_2',       'Emp_Competitive_3', 'Emp_Competitive_4', 'Emp_Competitive_5',\n",
    "       'Emp_Collaborative_1', 'Emp_Collaborative_2', 'Emp_Collaborative_3',       'Emp_Collaborative_4', 'Emp_Collaborative_5']]\n",
    "satisfaction.head()"
   ]
  },
  {
   "cell_type": "code",
   "execution_count": 142,
   "id": "ae6e8514",
   "metadata": {},
   "outputs": [
    {
     "data": {
      "text/plain": [
       "(14999, 33)"
      ]
     },
     "execution_count": 142,
     "metadata": {},
     "output_type": "execute_result"
    }
   ],
   "source": [
    "satisfaction.shape"
   ]
  },
  {
   "cell_type": "markdown",
   "id": "70374448",
   "metadata": {},
   "source": [
    "We calculate employee satsfation score by:\n",
    "    \n",
    "    (1)  sum up all the scores received for each survey response, \n",
    "    (2)  then divide the result by the maximum possible score     \n",
    "         (the maximum score per answer is 5 and there were 33 answers, therefore 5 x 33 = 165)"
   ]
  },
  {
   "cell_type": "code",
   "execution_count": 143,
   "id": "4434da30",
   "metadata": {},
   "outputs": [
    {
     "data": {
      "text/html": [
       "<div>\n",
       "<style scoped>\n",
       "    .dataframe tbody tr th:only-of-type {\n",
       "        vertical-align: middle;\n",
       "    }\n",
       "\n",
       "    .dataframe tbody tr th {\n",
       "        vertical-align: top;\n",
       "    }\n",
       "\n",
       "    .dataframe thead th {\n",
       "        text-align: right;\n",
       "    }\n",
       "</style>\n",
       "<table border=\"1\" class=\"dataframe\">\n",
       "  <thead>\n",
       "    <tr style=\"text-align: right;\">\n",
       "      <th></th>\n",
       "      <th>ID</th>\n",
       "      <th>Name</th>\n",
       "      <th>Department</th>\n",
       "      <th>GEO</th>\n",
       "      <th>Role</th>\n",
       "      <th>Rising_Star</th>\n",
       "      <th>Will_Relocate</th>\n",
       "      <th>Critical</th>\n",
       "      <th>Trending Perf</th>\n",
       "      <th>Talent_Level</th>\n",
       "      <th>Validated_Talent_Level</th>\n",
       "      <th>Percent_Remote</th>\n",
       "      <th>EMP_Sat_OnPrem_1</th>\n",
       "      <th>EMP_Sat_OnPrem_2</th>\n",
       "      <th>EMP_Sat_OnPrem_3</th>\n",
       "      <th>EMP_Sat_OnPrem_4</th>\n",
       "      <th>EMP_Sat_OnPrem_5</th>\n",
       "      <th>EMP_Sat_Remote_1</th>\n",
       "      <th>EMP_Sat_Remote_2</th>\n",
       "      <th>EMP_Sat_Remote_3</th>\n",
       "      <th>EMP_Sat_Remote_4</th>\n",
       "      <th>EMP_Sat_Remote_5</th>\n",
       "      <th>EMP_Engagement_1</th>\n",
       "      <th>EMP_Engagement_2</th>\n",
       "      <th>EMP_Engagement_3</th>\n",
       "      <th>EMP_Engagement_4</th>\n",
       "      <th>EMP_Engagement_5</th>\n",
       "      <th>last_evaluation</th>\n",
       "      <th>number_project</th>\n",
       "      <th>average_montly_hours</th>\n",
       "      <th>time_spend_company</th>\n",
       "      <th>Work_accident</th>\n",
       "      <th>left_Company</th>\n",
       "      <th>CSR Factor</th>\n",
       "      <th>promotion_last_5years</th>\n",
       "      <th>sales</th>\n",
       "      <th>salary</th>\n",
       "      <th>Gender</th>\n",
       "      <th>LinkedIn_Hits</th>\n",
       "      <th>Emp_Work_Status2</th>\n",
       "      <th>Emp_Work_Status_3</th>\n",
       "      <th>Emp_Work_Status_4</th>\n",
       "      <th>Emp_Work_Status_5</th>\n",
       "      <th>Emp_Identity</th>\n",
       "      <th>Emp_Role</th>\n",
       "      <th>Emp_Position</th>\n",
       "      <th>Emp_Title</th>\n",
       "      <th>Women_Leave</th>\n",
       "      <th>Men_Leave</th>\n",
       "      <th>Emp_Competitive_1</th>\n",
       "      <th>Emp_Competitive_2</th>\n",
       "      <th>Emp_Competitive_3</th>\n",
       "      <th>Emp_Competitive_4</th>\n",
       "      <th>Emp_Competitive_5</th>\n",
       "      <th>Emp_Collaborative_1</th>\n",
       "      <th>Emp_Collaborative_2</th>\n",
       "      <th>Emp_Collaborative_3</th>\n",
       "      <th>Emp_Collaborative_4</th>\n",
       "      <th>Emp_Collaborative_5</th>\n",
       "      <th>Sensor_StepCount</th>\n",
       "      <th>Sensor_Heartbeat(Average/Min)</th>\n",
       "      <th>Sensor_Proximity(1-highest/10-lowest)</th>\n",
       "      <th>Satisfaction</th>\n",
       "    </tr>\n",
       "  </thead>\n",
       "  <tbody>\n",
       "    <tr>\n",
       "      <th>0</th>\n",
       "      <td>1</td>\n",
       "      <td>BRADDY</td>\n",
       "      <td>Operations</td>\n",
       "      <td>US</td>\n",
       "      <td>VP</td>\n",
       "      <td>NaN</td>\n",
       "      <td>0</td>\n",
       "      <td>1.0</td>\n",
       "      <td>3</td>\n",
       "      <td>6</td>\n",
       "      <td>6</td>\n",
       "      <td>0.4</td>\n",
       "      <td>3.0</td>\n",
       "      <td>3.0</td>\n",
       "      <td>4.0</td>\n",
       "      <td>3.0</td>\n",
       "      <td>5.0</td>\n",
       "      <td>2</td>\n",
       "      <td>3</td>\n",
       "      <td>2</td>\n",
       "      <td>3</td>\n",
       "      <td>2</td>\n",
       "      <td>5</td>\n",
       "      <td>5</td>\n",
       "      <td>4</td>\n",
       "      <td>4</td>\n",
       "      <td>3</td>\n",
       "      <td>0.36</td>\n",
       "      <td>3</td>\n",
       "      <td>168</td>\n",
       "      <td>3</td>\n",
       "      <td>1</td>\n",
       "      <td>0</td>\n",
       "      <td>NaN</td>\n",
       "      <td>0</td>\n",
       "      <td>sales</td>\n",
       "      <td>low</td>\n",
       "      <td>M</td>\n",
       "      <td>5</td>\n",
       "      <td>4</td>\n",
       "      <td>3</td>\n",
       "      <td>1</td>\n",
       "      <td>1</td>\n",
       "      <td>1</td>\n",
       "      <td>1</td>\n",
       "      <td>2</td>\n",
       "      <td>1</td>\n",
       "      <td>NaN</td>\n",
       "      <td>1.0</td>\n",
       "      <td>2</td>\n",
       "      <td>4</td>\n",
       "      <td>2</td>\n",
       "      <td>2</td>\n",
       "      <td>2</td>\n",
       "      <td>2</td>\n",
       "      <td>2</td>\n",
       "      <td>2</td>\n",
       "      <td>1</td>\n",
       "      <td>5</td>\n",
       "      <td>1841</td>\n",
       "      <td>61</td>\n",
       "      <td>9</td>\n",
       "      <td>0.539394</td>\n",
       "    </tr>\n",
       "    <tr>\n",
       "      <th>1</th>\n",
       "      <td>2</td>\n",
       "      <td>BORST</td>\n",
       "      <td>Sales</td>\n",
       "      <td>UK</td>\n",
       "      <td>Senior Director</td>\n",
       "      <td>NaN</td>\n",
       "      <td>0</td>\n",
       "      <td>NaN</td>\n",
       "      <td>3</td>\n",
       "      <td>6</td>\n",
       "      <td>6</td>\n",
       "      <td>0.4</td>\n",
       "      <td>3.0</td>\n",
       "      <td>3.0</td>\n",
       "      <td>4.0</td>\n",
       "      <td>3.0</td>\n",
       "      <td>5.0</td>\n",
       "      <td>2</td>\n",
       "      <td>3</td>\n",
       "      <td>2</td>\n",
       "      <td>3</td>\n",
       "      <td>2</td>\n",
       "      <td>5</td>\n",
       "      <td>5</td>\n",
       "      <td>4</td>\n",
       "      <td>4</td>\n",
       "      <td>3</td>\n",
       "      <td>0.36</td>\n",
       "      <td>5</td>\n",
       "      <td>159</td>\n",
       "      <td>2</td>\n",
       "      <td>0</td>\n",
       "      <td>0</td>\n",
       "      <td>NaN</td>\n",
       "      <td>0</td>\n",
       "      <td>accounting</td>\n",
       "      <td>low</td>\n",
       "      <td>F</td>\n",
       "      <td>58</td>\n",
       "      <td>3</td>\n",
       "      <td>3</td>\n",
       "      <td>4</td>\n",
       "      <td>3</td>\n",
       "      <td>2</td>\n",
       "      <td>1</td>\n",
       "      <td>2</td>\n",
       "      <td>1</td>\n",
       "      <td>0.0</td>\n",
       "      <td>NaN</td>\n",
       "      <td>2</td>\n",
       "      <td>2</td>\n",
       "      <td>1</td>\n",
       "      <td>4</td>\n",
       "      <td>1</td>\n",
       "      <td>3</td>\n",
       "      <td>2</td>\n",
       "      <td>5</td>\n",
       "      <td>1</td>\n",
       "      <td>5</td>\n",
       "      <td>1990</td>\n",
       "      <td>90</td>\n",
       "      <td>8</td>\n",
       "      <td>0.581818</td>\n",
       "    </tr>\n",
       "    <tr>\n",
       "      <th>2</th>\n",
       "      <td>3</td>\n",
       "      <td>BIRDWELL</td>\n",
       "      <td>Finance</td>\n",
       "      <td>France</td>\n",
       "      <td>Senior Director</td>\n",
       "      <td>NaN</td>\n",
       "      <td>0</td>\n",
       "      <td>NaN</td>\n",
       "      <td>3</td>\n",
       "      <td>6</td>\n",
       "      <td>6</td>\n",
       "      <td>0.4</td>\n",
       "      <td>3.0</td>\n",
       "      <td>3.0</td>\n",
       "      <td>4.0</td>\n",
       "      <td>3.0</td>\n",
       "      <td>5.0</td>\n",
       "      <td>2</td>\n",
       "      <td>3</td>\n",
       "      <td>2</td>\n",
       "      <td>3</td>\n",
       "      <td>2</td>\n",
       "      <td>5</td>\n",
       "      <td>5</td>\n",
       "      <td>4</td>\n",
       "      <td>4</td>\n",
       "      <td>3</td>\n",
       "      <td>0.36</td>\n",
       "      <td>2</td>\n",
       "      <td>282</td>\n",
       "      <td>3</td>\n",
       "      <td>0</td>\n",
       "      <td>0</td>\n",
       "      <td>NaN</td>\n",
       "      <td>0</td>\n",
       "      <td>product_mng</td>\n",
       "      <td>medium</td>\n",
       "      <td>F</td>\n",
       "      <td>42</td>\n",
       "      <td>2</td>\n",
       "      <td>4</td>\n",
       "      <td>1</td>\n",
       "      <td>3</td>\n",
       "      <td>1</td>\n",
       "      <td>1</td>\n",
       "      <td>2</td>\n",
       "      <td>2</td>\n",
       "      <td>1.0</td>\n",
       "      <td>NaN</td>\n",
       "      <td>1</td>\n",
       "      <td>5</td>\n",
       "      <td>1</td>\n",
       "      <td>2</td>\n",
       "      <td>5</td>\n",
       "      <td>2</td>\n",
       "      <td>2</td>\n",
       "      <td>4</td>\n",
       "      <td>4</td>\n",
       "      <td>4</td>\n",
       "      <td>3193</td>\n",
       "      <td>80</td>\n",
       "      <td>8</td>\n",
       "      <td>0.587879</td>\n",
       "    </tr>\n",
       "    <tr>\n",
       "      <th>3</th>\n",
       "      <td>4</td>\n",
       "      <td>BENT</td>\n",
       "      <td>Human Resources</td>\n",
       "      <td>China</td>\n",
       "      <td>Senior Director</td>\n",
       "      <td>NaN</td>\n",
       "      <td>0</td>\n",
       "      <td>NaN</td>\n",
       "      <td>3</td>\n",
       "      <td>6</td>\n",
       "      <td>6</td>\n",
       "      <td>0.4</td>\n",
       "      <td>3.0</td>\n",
       "      <td>3.0</td>\n",
       "      <td>4.0</td>\n",
       "      <td>3.0</td>\n",
       "      <td>5.0</td>\n",
       "      <td>2</td>\n",
       "      <td>3</td>\n",
       "      <td>2</td>\n",
       "      <td>3</td>\n",
       "      <td>2</td>\n",
       "      <td>5</td>\n",
       "      <td>5</td>\n",
       "      <td>4</td>\n",
       "      <td>4</td>\n",
       "      <td>3</td>\n",
       "      <td>0.36</td>\n",
       "      <td>4</td>\n",
       "      <td>278</td>\n",
       "      <td>4</td>\n",
       "      <td>1</td>\n",
       "      <td>0</td>\n",
       "      <td>NaN</td>\n",
       "      <td>0</td>\n",
       "      <td>product_mng</td>\n",
       "      <td>high</td>\n",
       "      <td>M</td>\n",
       "      <td>37</td>\n",
       "      <td>3</td>\n",
       "      <td>1</td>\n",
       "      <td>4</td>\n",
       "      <td>5</td>\n",
       "      <td>2</td>\n",
       "      <td>1</td>\n",
       "      <td>2</td>\n",
       "      <td>1</td>\n",
       "      <td>NaN</td>\n",
       "      <td>1.0</td>\n",
       "      <td>1</td>\n",
       "      <td>1</td>\n",
       "      <td>2</td>\n",
       "      <td>5</td>\n",
       "      <td>1</td>\n",
       "      <td>1</td>\n",
       "      <td>2</td>\n",
       "      <td>4</td>\n",
       "      <td>4</td>\n",
       "      <td>1</td>\n",
       "      <td>3248</td>\n",
       "      <td>77</td>\n",
       "      <td>6</td>\n",
       "      <td>0.557576</td>\n",
       "    </tr>\n",
       "    <tr>\n",
       "      <th>4</th>\n",
       "      <td>5</td>\n",
       "      <td>BAZAN</td>\n",
       "      <td>IT</td>\n",
       "      <td>Korea</td>\n",
       "      <td>Director</td>\n",
       "      <td>NaN</td>\n",
       "      <td>0</td>\n",
       "      <td>NaN</td>\n",
       "      <td>3</td>\n",
       "      <td>6</td>\n",
       "      <td>6</td>\n",
       "      <td>0.4</td>\n",
       "      <td>3.0</td>\n",
       "      <td>3.0</td>\n",
       "      <td>4.0</td>\n",
       "      <td>3.0</td>\n",
       "      <td>5.0</td>\n",
       "      <td>2</td>\n",
       "      <td>3</td>\n",
       "      <td>2</td>\n",
       "      <td>3</td>\n",
       "      <td>2</td>\n",
       "      <td>5</td>\n",
       "      <td>5</td>\n",
       "      <td>4</td>\n",
       "      <td>4</td>\n",
       "      <td>3</td>\n",
       "      <td>0.36</td>\n",
       "      <td>6</td>\n",
       "      <td>256</td>\n",
       "      <td>5</td>\n",
       "      <td>0</td>\n",
       "      <td>0</td>\n",
       "      <td>NaN</td>\n",
       "      <td>0</td>\n",
       "      <td>sales</td>\n",
       "      <td>low</td>\n",
       "      <td>F</td>\n",
       "      <td>6</td>\n",
       "      <td>4</td>\n",
       "      <td>5</td>\n",
       "      <td>4</td>\n",
       "      <td>5</td>\n",
       "      <td>1</td>\n",
       "      <td>1</td>\n",
       "      <td>2</td>\n",
       "      <td>1</td>\n",
       "      <td>1.0</td>\n",
       "      <td>NaN</td>\n",
       "      <td>1</td>\n",
       "      <td>4</td>\n",
       "      <td>1</td>\n",
       "      <td>5</td>\n",
       "      <td>3</td>\n",
       "      <td>5</td>\n",
       "      <td>1</td>\n",
       "      <td>2</td>\n",
       "      <td>5</td>\n",
       "      <td>4</td>\n",
       "      <td>3149</td>\n",
       "      <td>80</td>\n",
       "      <td>10</td>\n",
       "      <td>0.636364</td>\n",
       "    </tr>\n",
       "  </tbody>\n",
       "</table>\n",
       "</div>"
      ],
      "text/plain": [
       "   ID      Name       Department     GEO             Role  Rising_Star  \\\n",
       "0   1    BRADDY       Operations      US               VP          NaN   \n",
       "1   2     BORST            Sales      UK  Senior Director          NaN   \n",
       "2   3  BIRDWELL          Finance  France  Senior Director          NaN   \n",
       "3   4      BENT  Human Resources   China  Senior Director          NaN   \n",
       "4   5     BAZAN               IT   Korea         Director          NaN   \n",
       "\n",
       "   Will_Relocate  Critical  Trending Perf  Talent_Level  \\\n",
       "0              0       1.0              3             6   \n",
       "1              0       NaN              3             6   \n",
       "2              0       NaN              3             6   \n",
       "3              0       NaN              3             6   \n",
       "4              0       NaN              3             6   \n",
       "\n",
       "   Validated_Talent_Level  Percent_Remote  EMP_Sat_OnPrem_1  EMP_Sat_OnPrem_2  \\\n",
       "0                       6             0.4               3.0               3.0   \n",
       "1                       6             0.4               3.0               3.0   \n",
       "2                       6             0.4               3.0               3.0   \n",
       "3                       6             0.4               3.0               3.0   \n",
       "4                       6             0.4               3.0               3.0   \n",
       "\n",
       "   EMP_Sat_OnPrem_3  EMP_Sat_OnPrem_4  EMP_Sat_OnPrem_5  EMP_Sat_Remote_1  \\\n",
       "0               4.0               3.0               5.0                 2   \n",
       "1               4.0               3.0               5.0                 2   \n",
       "2               4.0               3.0               5.0                 2   \n",
       "3               4.0               3.0               5.0                 2   \n",
       "4               4.0               3.0               5.0                 2   \n",
       "\n",
       "   EMP_Sat_Remote_2  EMP_Sat_Remote_3  EMP_Sat_Remote_4  EMP_Sat_Remote_5  \\\n",
       "0                 3                 2                 3                 2   \n",
       "1                 3                 2                 3                 2   \n",
       "2                 3                 2                 3                 2   \n",
       "3                 3                 2                 3                 2   \n",
       "4                 3                 2                 3                 2   \n",
       "\n",
       "   EMP_Engagement_1  EMP_Engagement_2  EMP_Engagement_3  EMP_Engagement_4  \\\n",
       "0                 5                 5                 4                 4   \n",
       "1                 5                 5                 4                 4   \n",
       "2                 5                 5                 4                 4   \n",
       "3                 5                 5                 4                 4   \n",
       "4                 5                 5                 4                 4   \n",
       "\n",
       "   EMP_Engagement_5  last_evaluation  number_project  average_montly_hours  \\\n",
       "0                 3             0.36               3                   168   \n",
       "1                 3             0.36               5                   159   \n",
       "2                 3             0.36               2                   282   \n",
       "3                 3             0.36               4                   278   \n",
       "4                 3             0.36               6                   256   \n",
       "\n",
       "   time_spend_company  Work_accident  left_Company  CSR Factor  \\\n",
       "0                   3              1             0         NaN   \n",
       "1                   2              0             0         NaN   \n",
       "2                   3              0             0         NaN   \n",
       "3                   4              1             0         NaN   \n",
       "4                   5              0             0         NaN   \n",
       "\n",
       "   promotion_last_5years        sales  salary Gender  LinkedIn_Hits  \\\n",
       "0                      0        sales     low      M              5   \n",
       "1                      0   accounting     low      F             58   \n",
       "2                      0  product_mng  medium      F             42   \n",
       "3                      0  product_mng    high      M             37   \n",
       "4                      0        sales     low      F              6   \n",
       "\n",
       "   Emp_Work_Status2  Emp_Work_Status_3  Emp_Work_Status_4  Emp_Work_Status_5  \\\n",
       "0                 4                  3                  1                  1   \n",
       "1                 3                  3                  4                  3   \n",
       "2                 2                  4                  1                  3   \n",
       "3                 3                  1                  4                  5   \n",
       "4                 4                  5                  4                  5   \n",
       "\n",
       "   Emp_Identity  Emp_Role  Emp_Position  Emp_Title  Women_Leave  Men_Leave  \\\n",
       "0             1         1             2          1          NaN        1.0   \n",
       "1             2         1             2          1          0.0        NaN   \n",
       "2             1         1             2          2          1.0        NaN   \n",
       "3             2         1             2          1          NaN        1.0   \n",
       "4             1         1             2          1          1.0        NaN   \n",
       "\n",
       "   Emp_Competitive_1  Emp_Competitive_2  Emp_Competitive_3  Emp_Competitive_4  \\\n",
       "0                  2                  4                  2                  2   \n",
       "1                  2                  2                  1                  4   \n",
       "2                  1                  5                  1                  2   \n",
       "3                  1                  1                  2                  5   \n",
       "4                  1                  4                  1                  5   \n",
       "\n",
       "   Emp_Competitive_5  Emp_Collaborative_1  Emp_Collaborative_2  \\\n",
       "0                  2                    2                    2   \n",
       "1                  1                    3                    2   \n",
       "2                  5                    2                    2   \n",
       "3                  1                    1                    2   \n",
       "4                  3                    5                    1   \n",
       "\n",
       "   Emp_Collaborative_3  Emp_Collaborative_4  Emp_Collaborative_5  \\\n",
       "0                    2                    1                    5   \n",
       "1                    5                    1                    5   \n",
       "2                    4                    4                    4   \n",
       "3                    4                    4                    1   \n",
       "4                    2                    5                    4   \n",
       "\n",
       "   Sensor_StepCount  Sensor_Heartbeat(Average/Min)  \\\n",
       "0              1841                             61   \n",
       "1              1990                             90   \n",
       "2              3193                             80   \n",
       "3              3248                             77   \n",
       "4              3149                             80   \n",
       "\n",
       "   Sensor_Proximity(1-highest/10-lowest)  Satisfaction  \n",
       "0                                      9      0.539394  \n",
       "1                                      8      0.581818  \n",
       "2                                      8      0.587879  \n",
       "3                                      6      0.557576  \n",
       "4                                     10      0.636364  "
      ]
     },
     "execution_count": 143,
     "metadata": {},
     "output_type": "execute_result"
    }
   ],
   "source": [
    "data['Satisfaction'] = satisfaction.sum(axis=1)/165\n",
    "data.head() "
   ]
  },
  {
   "cell_type": "markdown",
   "id": "1431b611",
   "metadata": {},
   "source": [
    "- We generated a new feature named 'Satisfaction'"
   ]
  },
  {
   "cell_type": "markdown",
   "id": "cc434fea",
   "metadata": {},
   "source": [
    "### 2.3. Feature reduction"
   ]
  },
  {
   "cell_type": "markdown",
   "id": "ec066043",
   "metadata": {},
   "source": [
    "- Here we will remove unwanted columns to make our model work better"
   ]
  },
  {
   "cell_type": "code",
   "execution_count": 144,
   "id": "a29c645f",
   "metadata": {},
   "outputs": [
    {
     "data": {
      "text/plain": [
       "(14999, 63)"
      ]
     },
     "execution_count": 144,
     "metadata": {},
     "output_type": "execute_result"
    }
   ],
   "source": [
    "data.shape"
   ]
  },
  {
   "cell_type": "markdown",
   "id": "727774a3",
   "metadata": {},
   "source": [
    "- Now we have 63 columns(features), we will reduce the no.of features by Feature reduction"
   ]
  },
  {
   "cell_type": "code",
   "execution_count": 145,
   "id": "0f96f1be",
   "metadata": {},
   "outputs": [
    {
     "data": {
      "text/plain": [
       "(14999, 30)"
      ]
     },
     "execution_count": 145,
     "metadata": {},
     "output_type": "execute_result"
    }
   ],
   "source": [
    "# We will create a new data set called sub_data by removing un-wanted features\n",
    "sub_data = data.drop(['Name', 'Department', 'GEO', 'sales', 'ID', 'Rising_Star','Critical','Trending Perf', 'Talent_Level','Validated_Talent_Level', 'Percent_Remote', 'EMP_Sat_OnPrem_1','EMP_Sat_OnPrem_2', 'EMP_Sat_OnPrem_3', 'EMP_Sat_OnPrem_4','EMP_Sat_OnPrem_5', 'EMP_Sat_Remote_1', 'EMP_Sat_Remote_2','EMP_Sat_Remote_3', 'EMP_Sat_Remote_4', 'EMP_Sat_Remote_5','EMP_Engagement_1', 'EMP_Engagement_2', 'EMP_Engagement_3','EMP_Engagement_4', 'EMP_Engagement_5', 'CSR Factor','sales','LinkedIn_Hits','Women_Leave','Men_Leave', 'Sensor_StepCount','Sensor_Heartbeat(Average/Min)','Sensor_Proximity(1-highest/10-lowest)'], axis =1)\n",
    "sub_data.shape"
   ]
  },
  {
   "cell_type": "code",
   "execution_count": 146,
   "id": "3109fc3a",
   "metadata": {},
   "outputs": [
    {
     "data": {
      "text/plain": [
       "(14999, 12)"
      ]
     },
     "execution_count": 146,
     "metadata": {},
     "output_type": "execute_result"
    }
   ],
   "source": [
    "# We no longer require survey value columns because we created a new feature using these features\n",
    "sub_data = sub_data.drop(['Emp_Work_Status2', 'Emp_Work_Status_3', 'Emp_Work_Status_4',       'Emp_Work_Status_5', 'Emp_Identity', 'Emp_Role', 'Emp_Position',\n",
    "       'Emp_Title', 'Emp_Competitive_1', 'Emp_Competitive_2',       'Emp_Competitive_3', 'Emp_Competitive_4', 'Emp_Competitive_5',\n",
    "       'Emp_Collaborative_1', 'Emp_Collaborative_2', 'Emp_Collaborative_3',       'Emp_Collaborative_4', 'Emp_Collaborative_5'],axis = 1)\n",
    "sub_data.shape"
   ]
  },
  {
   "cell_type": "code",
   "execution_count": 147,
   "id": "41145167",
   "metadata": {},
   "outputs": [
    {
     "data": {
      "text/html": [
       "<div>\n",
       "<style scoped>\n",
       "    .dataframe tbody tr th:only-of-type {\n",
       "        vertical-align: middle;\n",
       "    }\n",
       "\n",
       "    .dataframe tbody tr th {\n",
       "        vertical-align: top;\n",
       "    }\n",
       "\n",
       "    .dataframe thead th {\n",
       "        text-align: right;\n",
       "    }\n",
       "</style>\n",
       "<table border=\"1\" class=\"dataframe\">\n",
       "  <thead>\n",
       "    <tr style=\"text-align: right;\">\n",
       "      <th></th>\n",
       "      <th>Role</th>\n",
       "      <th>Will_Relocate</th>\n",
       "      <th>last_evaluation</th>\n",
       "      <th>number_project</th>\n",
       "      <th>average_montly_hours</th>\n",
       "      <th>time_spend_company</th>\n",
       "      <th>Work_accident</th>\n",
       "      <th>left_Company</th>\n",
       "      <th>promotion_last_5years</th>\n",
       "      <th>salary</th>\n",
       "      <th>Gender</th>\n",
       "      <th>Satisfaction</th>\n",
       "    </tr>\n",
       "  </thead>\n",
       "  <tbody>\n",
       "    <tr>\n",
       "      <th>0</th>\n",
       "      <td>VP</td>\n",
       "      <td>0</td>\n",
       "      <td>0.36</td>\n",
       "      <td>3</td>\n",
       "      <td>168</td>\n",
       "      <td>3</td>\n",
       "      <td>1</td>\n",
       "      <td>0</td>\n",
       "      <td>0</td>\n",
       "      <td>low</td>\n",
       "      <td>M</td>\n",
       "      <td>0.539394</td>\n",
       "    </tr>\n",
       "    <tr>\n",
       "      <th>1</th>\n",
       "      <td>Senior Director</td>\n",
       "      <td>0</td>\n",
       "      <td>0.36</td>\n",
       "      <td>5</td>\n",
       "      <td>159</td>\n",
       "      <td>2</td>\n",
       "      <td>0</td>\n",
       "      <td>0</td>\n",
       "      <td>0</td>\n",
       "      <td>low</td>\n",
       "      <td>F</td>\n",
       "      <td>0.581818</td>\n",
       "    </tr>\n",
       "    <tr>\n",
       "      <th>2</th>\n",
       "      <td>Senior Director</td>\n",
       "      <td>0</td>\n",
       "      <td>0.36</td>\n",
       "      <td>2</td>\n",
       "      <td>282</td>\n",
       "      <td>3</td>\n",
       "      <td>0</td>\n",
       "      <td>0</td>\n",
       "      <td>0</td>\n",
       "      <td>medium</td>\n",
       "      <td>F</td>\n",
       "      <td>0.587879</td>\n",
       "    </tr>\n",
       "    <tr>\n",
       "      <th>3</th>\n",
       "      <td>Senior Director</td>\n",
       "      <td>0</td>\n",
       "      <td>0.36</td>\n",
       "      <td>4</td>\n",
       "      <td>278</td>\n",
       "      <td>4</td>\n",
       "      <td>1</td>\n",
       "      <td>0</td>\n",
       "      <td>0</td>\n",
       "      <td>high</td>\n",
       "      <td>M</td>\n",
       "      <td>0.557576</td>\n",
       "    </tr>\n",
       "    <tr>\n",
       "      <th>4</th>\n",
       "      <td>Director</td>\n",
       "      <td>0</td>\n",
       "      <td>0.36</td>\n",
       "      <td>6</td>\n",
       "      <td>256</td>\n",
       "      <td>5</td>\n",
       "      <td>0</td>\n",
       "      <td>0</td>\n",
       "      <td>0</td>\n",
       "      <td>low</td>\n",
       "      <td>F</td>\n",
       "      <td>0.636364</td>\n",
       "    </tr>\n",
       "  </tbody>\n",
       "</table>\n",
       "</div>"
      ],
      "text/plain": [
       "              Role  Will_Relocate  last_evaluation  number_project  \\\n",
       "0               VP              0             0.36               3   \n",
       "1  Senior Director              0             0.36               5   \n",
       "2  Senior Director              0             0.36               2   \n",
       "3  Senior Director              0             0.36               4   \n",
       "4         Director              0             0.36               6   \n",
       "\n",
       "   average_montly_hours  time_spend_company  Work_accident  left_Company  \\\n",
       "0                   168                   3              1             0   \n",
       "1                   159                   2              0             0   \n",
       "2                   282                   3              0             0   \n",
       "3                   278                   4              1             0   \n",
       "4                   256                   5              0             0   \n",
       "\n",
       "   promotion_last_5years  salary Gender  Satisfaction  \n",
       "0                      0     low      M      0.539394  \n",
       "1                      0     low      F      0.581818  \n",
       "2                      0  medium      F      0.587879  \n",
       "3                      0    high      M      0.557576  \n",
       "4                      0     low      F      0.636364  "
      ]
     },
     "execution_count": 147,
     "metadata": {},
     "output_type": "execute_result"
    }
   ],
   "source": [
    "sub_data.head()"
   ]
  },
  {
   "cell_type": "code",
   "execution_count": 148,
   "id": "9bd71a85",
   "metadata": {},
   "outputs": [
    {
     "data": {
      "text/plain": [
       "Role                     0\n",
       "Will_Relocate            0\n",
       "last_evaluation          0\n",
       "number_project           0\n",
       "average_montly_hours     0\n",
       "time_spend_company       0\n",
       "Work_accident            0\n",
       "left_Company             0\n",
       "promotion_last_5years    0\n",
       "salary                   0\n",
       "Gender                   0\n",
       "Satisfaction             0\n",
       "dtype: int64"
      ]
     },
     "execution_count": 148,
     "metadata": {},
     "output_type": "execute_result"
    }
   ],
   "source": [
    "# Now we will check for any null values in our new data set\n",
    "sub_data.isnull().sum()"
   ]
  },
  {
   "cell_type": "markdown",
   "id": "b3e69e9e",
   "metadata": {},
   "source": [
    "- There is no missing values present in the data set."
   ]
  },
  {
   "cell_type": "markdown",
   "id": "5778c9ed",
   "metadata": {},
   "source": [
    "### 2.4. Outlier detection and handling"
   ]
  },
  {
   "cell_type": "code",
   "execution_count": 149,
   "id": "28de14b4",
   "metadata": {},
   "outputs": [
    {
     "data": {
      "text/plain": [
       "Role                      object\n",
       "Will_Relocate              int64\n",
       "last_evaluation          float64\n",
       "number_project             int64\n",
       "average_montly_hours       int64\n",
       "time_spend_company         int64\n",
       "Work_accident              int64\n",
       "left_Company               int64\n",
       "promotion_last_5years      int64\n",
       "salary                    object\n",
       "Gender                    object\n",
       "Satisfaction             float64\n",
       "dtype: object"
      ]
     },
     "execution_count": 149,
     "metadata": {},
     "output_type": "execute_result"
    }
   ],
   "source": [
    "sub_data.dtypes"
   ]
  },
  {
   "cell_type": "markdown",
   "id": "e54702a5",
   "metadata": {},
   "source": [
    "We now plot box plots for all the numerical columns to find outliers, if any."
   ]
  },
  {
   "cell_type": "code",
   "execution_count": 150,
   "id": "aeb2ed6d",
   "metadata": {
    "scrolled": false
   },
   "outputs": [
    {
     "data": {
      "image/png": "[encoded data removed]",
      "text/plain": [
       "<Figure size 1080x720 with 9 Axes>"
      ]
     },
     "metadata": {
      "needs_background": "light"
     },
     "output_type": "display_data"
    }
   ],
   "source": [
    "plt.figure(figsize = (15,10))\n",
    "\n",
    "plt.subplot(3,3,1)\n",
    "plt.boxplot(sub_data['Will_Relocate'])\n",
    "plt.title('Box plot of Will_Relocate')\n",
    "\n",
    "\n",
    "plt.subplot(3,3,2)\n",
    "plt.boxplot(sub_data['last_evaluation'])\n",
    "plt.title('Box plot of last_evaluation')\n",
    "\n",
    "plt.subplot(3,3,3)\n",
    "plt.boxplot(sub_data['number_project'])\n",
    "plt.title('Box plot of number_project')\n",
    "\n",
    "plt.subplot(3,3,4)\n",
    "plt.boxplot(sub_data['average_montly_hours'])\n",
    "plt.title('Box plot of average_montly_hours')\n",
    "\n",
    "plt.subplot(3,3,5)\n",
    "plt.boxplot(sub_data['time_spend_company'])\n",
    "plt.title('Box plot of time_spend_company')\n",
    "\n",
    "\n",
    "plt.subplot(3,3,6)\n",
    "plt.boxplot(sub_data['Work_accident'])\n",
    "plt.title('Box plot of Work_accident')\n",
    "\n",
    "plt.subplot(3,3,7)\n",
    "plt.boxplot(sub_data['left_Company'])\n",
    "plt.title('Box plot of left_Company')\n",
    "\n",
    "plt.subplot(3,3,8)\n",
    "plt.boxplot(sub_data['promotion_last_5years'])\n",
    "plt.title('Box plot of promotion_last_5years')\n",
    "\n",
    "plt.subplot(3,3,9)\n",
    "plt.boxplot(sub_data['Satisfaction'])\n",
    "plt.title('Box plot of Satisfaction')\n",
    "\n",
    "plt.tight_layout()\n",
    "plt.show()"
   ]
  },
  {
   "cell_type": "markdown",
   "id": "14046c42",
   "metadata": {},
   "source": [
    "- We see some outliers present in 'time_spend_company', 'Work_accident', 'left_Company', 'promotion_last_5years' and 'Satisfaction' columns."
   ]
  },
  {
   "cell_type": "markdown",
   "id": "ffd852b7",
   "metadata": {},
   "source": [
    "There are different ways to handle the outlier:\n",
    "\n",
    "- We may delete outlier values if it is due to data entry error.\n",
    "- We may impute outlier using mean, median, or zero and thus there is no loss of data.\n",
    "- Quantile based flooring and capping.\n",
    "- Another option is treating the outlier separately in the statistical model. So, we treat them in separate groups (with outlier, deleting outlier, impute outlier) and build individual model for each group and then check the output and find out what is the best way to handle the outlier."
   ]
  },
  {
   "cell_type": "markdown",
   "id": "80e0325b",
   "metadata": {},
   "source": [
    "#### 1. Checking the outliers in time_spend_company column"
   ]
  },
  {
   "cell_type": "code",
   "execution_count": 151,
   "id": "3d248d33",
   "metadata": {},
   "outputs": [
    {
     "data": {
      "text/plain": [
       "array([ 3,  2,  4,  5,  6, 10,  7,  8], dtype=int64)"
      ]
     },
     "execution_count": 151,
     "metadata": {},
     "output_type": "execute_result"
    }
   ],
   "source": [
    "sub_data.time_spend_company.unique()"
   ]
  },
  {
   "cell_type": "markdown",
   "id": "c701eb38",
   "metadata": {},
   "source": [
    "It is the number of years of service, so we don't consider them as outliers."
   ]
  },
  {
   "cell_type": "markdown",
   "id": "ca46f6af",
   "metadata": {},
   "source": [
    "#### 2. Checking the outliers in Work_accident column"
   ]
  },
  {
   "cell_type": "code",
   "execution_count": 152,
   "id": "90dac4b5",
   "metadata": {},
   "outputs": [
    {
     "data": {
      "text/plain": [
       "array([1, 0], dtype=int64)"
      ]
     },
     "execution_count": 152,
     "metadata": {},
     "output_type": "execute_result"
    }
   ],
   "source": [
    "sub_data.Work_accident.unique()"
   ]
  },
  {
   "cell_type": "markdown",
   "id": "0e2c82bd",
   "metadata": {},
   "source": [
    "It is containing unique 0 and 1 values, so we don't consider them as outliers."
   ]
  },
  {
   "cell_type": "markdown",
   "id": "4416a36e",
   "metadata": {},
   "source": [
    "#### 3. Checking the outliers in left_Company column"
   ]
  },
  {
   "cell_type": "code",
   "execution_count": 153,
   "id": "510498be",
   "metadata": {},
   "outputs": [
    {
     "data": {
      "text/plain": [
       "array([0, 1], dtype=int64)"
      ]
     },
     "execution_count": 153,
     "metadata": {},
     "output_type": "execute_result"
    }
   ],
   "source": [
    "sub_data.left_Company.unique()"
   ]
  },
  {
   "cell_type": "markdown",
   "id": "f124733a",
   "metadata": {},
   "source": [
    "It is containing unique 0 and 1 values, so we don't consider them as outliers."
   ]
  },
  {
   "cell_type": "markdown",
   "id": "769baa70",
   "metadata": {},
   "source": [
    "#### 4. Checking the outliers in promotion_last_5years column"
   ]
  },
  {
   "cell_type": "code",
   "execution_count": 154,
   "id": "e05590b2",
   "metadata": {},
   "outputs": [
    {
     "data": {
      "text/plain": [
       "array([0, 1], dtype=int64)"
      ]
     },
     "execution_count": 154,
     "metadata": {},
     "output_type": "execute_result"
    }
   ],
   "source": [
    "sub_data.promotion_last_5years.unique()"
   ]
  },
  {
   "cell_type": "markdown",
   "id": "16e3cf5a",
   "metadata": {},
   "source": [
    "It is containing unique 0 and 1 values, so we don't consider them as outliers."
   ]
  },
  {
   "cell_type": "markdown",
   "id": "4b66fbf0",
   "metadata": {},
   "source": [
    "#### 4. Checking the outliers in Satisfaction column"
   ]
  },
  {
   "cell_type": "code",
   "execution_count": 155,
   "id": "7feb4090",
   "metadata": {},
   "outputs": [
    {
     "data": {
      "text/plain": [
       "count    14999.000000\n",
       "mean         0.604098\n",
       "std          0.070502\n",
       "min          0.393939\n",
       "25%          0.551515\n",
       "50%          0.593939\n",
       "75%          0.666667\n",
       "max          0.806061\n",
       "Name: Satisfaction, dtype: float64"
      ]
     },
     "execution_count": 155,
     "metadata": {},
     "output_type": "execute_result"
    }
   ],
   "source": [
    "#getting the statistical summary of Satisfaction column data\n",
    "sub_data.Satisfaction.describe() "
   ]
  },
  {
   "cell_type": "code",
   "execution_count": 156,
   "id": "c235b6b9",
   "metadata": {},
   "outputs": [
    {
     "name": "stdout",
     "output_type": "stream",
     "text": [
      "The no.of outliers present in the Satisfaction column: 0\n"
     ]
    }
   ],
   "source": [
    "#detecting outliers using Inter Quartile Range\n",
    "Q1 = np.percentile(sub_data['Satisfaction'], 25, interpolation = 'midpoint')\n",
    "Q2 = np.percentile(sub_data['Satisfaction'], 50, interpolation = 'midpoint')\n",
    "Q3 = np.percentile(sub_data['Satisfaction'], 75, interpolation = 'midpoint')\n",
    "\n",
    "IQR = Q3 - Q1\n",
    "\n",
    "low_limit = Q1 - 1.5 * IQR\n",
    "upp_limit = Q3 + 1.5 * IQR\n",
    "\n",
    "outlier = []\n",
    "for i in sub_data['Satisfaction']:\n",
    "    if ((i < low_limit) or ( i > upp_limit )):\n",
    "        outlier.append(i)\n",
    "\n",
    "print('The no.of outliers present in the Satisfaction column:',len(outlier))"
   ]
  },
  {
   "cell_type": "markdown",
   "id": "2b0dd468",
   "metadata": {},
   "source": [
    "- We can conclude that there is no data entry error, because the Satisfaction created using feature enginering. So, we don't need to delete any outlier value.\n",
    "- However, in order to reduce the spread of data and create a better model, we may impute the outliers using the median value with the help of Inter Quartile Range (IQR)."
   ]
  },
  {
   "cell_type": "code",
   "execution_count": 157,
   "id": "3b8b97c0",
   "metadata": {},
   "outputs": [],
   "source": [
    "#imputing outliers\n",
    "satisfaction_median = sub_data['Satisfaction'].median() \n",
    "sub_data['Satisfaction'] = np.where(sub_data['Satisfaction'] > upp_limit , satisfaction_median , np.where(sub_data['Satisfaction'] < low_limit, satisfaction_median, sub_data['Satisfaction']))"
   ]
  },
  {
   "cell_type": "code",
   "execution_count": 158,
   "id": "c2e87b5c",
   "metadata": {},
   "outputs": [
    {
     "data": {
      "image/png": "[encoded data removed]",
      "text/plain": [
       "<Figure size 432x288 with 1 Axes>"
      ]
     },
     "metadata": {
      "needs_background": "light"
     },
     "output_type": "display_data"
    }
   ],
   "source": [
    "#checking whether the outlier is handled properly or not\n",
    "plt.boxplot(sub_data['Satisfaction'])\n",
    "plt.title('Box plot of Satisfaction after handling Outliers')\n",
    "plt.show()"
   ]
  },
  {
   "cell_type": "markdown",
   "id": "77206b51",
   "metadata": {},
   "source": [
    "- We successfully handled all the outliers."
   ]
  },
  {
   "cell_type": "markdown",
   "id": "cc2d1126",
   "metadata": {},
   "source": [
    "# 3. Exploratory Data Analysis"
   ]
  },
  {
   "cell_type": "markdown",
   "id": "3e6dccfb",
   "metadata": {},
   "source": [
    "### 3.1. Univariate Analysis"
   ]
  },
  {
   "cell_type": "code",
   "execution_count": 159,
   "id": "a910bd17",
   "metadata": {},
   "outputs": [
    {
     "data": {
      "image/png": "[encoded data removed]",
      "text/plain": [
       "<Figure size 432x288 with 1 Axes>"
      ]
     },
     "metadata": {
      "needs_background": "light"
     },
     "output_type": "display_data"
    }
   ],
   "source": [
    "#role\n",
    "sub_data['Role'].value_counts().plot(kind='bar')\n",
    "plt.title(\"Role of employees\",fontsize=16)\n",
    "plt.show()"
   ]
  },
  {
   "cell_type": "markdown",
   "id": "5b85a09a",
   "metadata": {},
   "source": [
    "The dataset consists of details of employees working in almost all job levels ranging from level 1 to Executive management role like VP. Most of the employees in the dataset are in Level 2-4. Very few are in VP(Vice President)."
   ]
  },
  {
   "cell_type": "code",
   "execution_count": 160,
   "id": "8f560dd5",
   "metadata": {},
   "outputs": [
    {
     "data": {
      "image/png": "[encoded data removed]",
      "text/plain": [
       "<Figure size 432x288 with 1 Axes>"
      ]
     },
     "metadata": {
      "needs_background": "light"
     },
     "output_type": "display_data"
    }
   ],
   "source": [
    "#salary\n",
    "sub_data['salary'].value_counts().plot(kind='bar')\n",
    "plt.title(\"Salary of employees\",fontsize=18)\n",
    "plt.show()"
   ]
  },
  {
   "cell_type": "markdown",
   "id": "a713eec5",
   "metadata": {},
   "source": [
    "The salary is divided into three levels: low, medium, and high. Most of the employees are having low salary and very few are having high salary. We already saw that as the management level is increasing, the number of employees are decreasing and this reflected in the case of salary also."
   ]
  },
  {
   "cell_type": "code",
   "execution_count": 161,
   "id": "9bf43d7e",
   "metadata": {},
   "outputs": [
    {
     "data": {
      "image/png": "[encoded data removed]",
      "text/plain": [
       "<Figure size 360x432 with 1 Axes>"
      ]
     },
     "metadata": {
      "needs_background": "light"
     },
     "output_type": "display_data"
    }
   ],
   "source": [
    "#left_company\n",
    "plt.figure(figsize = (5,6))\n",
    "plot = sns.countplot(x='left_Company',data=sub_data)\n",
    "plt.title(\"countplot of left_Company feature\",fontsize=20)\n",
    "#labelling the bars with the data value\n",
    "plt.bar_label(plot.containers[0],fontsize=12)\n",
    "plt.show()"
   ]
  },
  {
   "cell_type": "markdown",
   "id": "3b9ffdce",
   "metadata": {},
   "source": [
    "Out of the total 14999 employees, 3571(about 23.8%) employees left the company."
   ]
  },
  {
   "cell_type": "code",
   "execution_count": 162,
   "id": "a6fc5490",
   "metadata": {},
   "outputs": [
    {
     "data": {
      "image/png": "[encoded data removed]",
      "text/plain": [
       "<Figure size 360x432 with 1 Axes>"
      ]
     },
     "metadata": {
      "needs_background": "light"
     },
     "output_type": "display_data"
    }
   ],
   "source": [
    "#Will_Relocate\n",
    "plt.figure(figsize = (5,6))\n",
    "plot = sns.countplot(x='Will_Relocate',data=sub_data)\n",
    "plt.title(\"Employees willing to relocate or not\",fontsize=18)\n",
    "#labelling the bars with the data value\n",
    "plt.bar_label(plot.containers[0],fontsize=12)\n",
    "plt.show()"
   ]
  },
  {
   "cell_type": "markdown",
   "id": "21c06692",
   "metadata": {},
   "source": [
    "There is no much diffrence between employees, who willing to relocate or not. "
   ]
  },
  {
   "cell_type": "code",
   "execution_count": 163,
   "id": "3eebd46c",
   "metadata": {},
   "outputs": [
    {
     "data": {
      "image/png": "[encoded data removed]",
      "text/plain": [
       "<Figure size 360x432 with 1 Axes>"
      ]
     },
     "metadata": {
      "needs_background": "light"
     },
     "output_type": "display_data"
    }
   ],
   "source": [
    "#gender\n",
    "plt.figure(figsize = (5,6))\n",
    "plot = sns.countplot(x='Gender',data=sub_data)\n",
    "plt.title(\"Employees count w.r.t. Gender\",fontsize=20)\n",
    "#labelling the bars with the data value\n",
    "plt.bar_label(plot.containers[0],fontsize=12)\n",
    "plt.show()"
   ]
  },
  {
   "cell_type": "markdown",
   "id": "63167f81",
   "metadata": {},
   "source": [
    "The number of female employees are slightly higher than that of the male employees."
   ]
  },
  {
   "cell_type": "code",
   "execution_count": 164,
   "id": "9bb033ff",
   "metadata": {},
   "outputs": [
    {
     "data": {
      "image/png": "[encoded data removed]",
      "text/plain": [
       "<Figure size 360x432 with 1 Axes>"
      ]
     },
     "metadata": {
      "needs_background": "light"
     },
     "output_type": "display_data"
    }
   ],
   "source": [
    "#work accident\n",
    "plt.figure(figsize = (5,6))\n",
    "plot = sns.countplot(x='Work_accident',data=sub_data)\n",
    "plt.title(\"Employees count w.r.t. work accident\",fontsize=20)\n",
    "#labelling the bars with the data value\n",
    "plt.bar_label(plot.containers[0],fontsize=12)\n",
    "plt.show()"
   ]
  },
  {
   "cell_type": "markdown",
   "id": "d2663a5e",
   "metadata": {},
   "source": [
    "Of the total employees, 2169(about 14.4%) employees encountered with work accidents."
   ]
  },
  {
   "cell_type": "code",
   "execution_count": 165,
   "id": "cfb0eb6e",
   "metadata": {},
   "outputs": [
    {
     "data": {
      "image/png": "[encoded data removed]",
      "text/plain": [
       "<Figure size 360x432 with 1 Axes>"
      ]
     },
     "metadata": {
      "needs_background": "light"
     },
     "output_type": "display_data"
    }
   ],
   "source": [
    "#promotion in last 5 years\n",
    "plt.figure(figsize = (5,6))\n",
    "plot = sns.countplot(x='promotion_last_5years',data=sub_data)\n",
    "plt.title(\"Employees count w.r.t. promotion\",fontsize=20)\n",
    "#labelling the bars with the data value\n",
    "plt.bar_label(plot.containers[0],fontsize=12)\n",
    "plt.show()"
   ]
  },
  {
   "cell_type": "markdown",
   "id": "a6f283e1",
   "metadata": {},
   "source": [
    "Only 319(about 2%) employees got promoted in the last five years."
   ]
  },
  {
   "cell_type": "code",
   "execution_count": 166,
   "id": "1d9266e9",
   "metadata": {},
   "outputs": [
    {
     "data": {
      "text/html": [
       "<div>\n",
       "<style scoped>\n",
       "    .dataframe tbody tr th:only-of-type {\n",
       "        vertical-align: middle;\n",
       "    }\n",
       "\n",
       "    .dataframe tbody tr th {\n",
       "        vertical-align: top;\n",
       "    }\n",
       "\n",
       "    .dataframe thead th {\n",
       "        text-align: right;\n",
       "    }\n",
       "</style>\n",
       "<table border=\"1\" class=\"dataframe\">\n",
       "  <thead>\n",
       "    <tr style=\"text-align: right;\">\n",
       "      <th></th>\n",
       "      <th>last_evaluation</th>\n",
       "      <th>number_project</th>\n",
       "      <th>average_montly_hours</th>\n",
       "      <th>time_spend_company</th>\n",
       "      <th>Satisfaction</th>\n",
       "    </tr>\n",
       "  </thead>\n",
       "  <tbody>\n",
       "    <tr>\n",
       "      <th>count</th>\n",
       "      <td>14999.000000</td>\n",
       "      <td>14999.000000</td>\n",
       "      <td>14999.000000</td>\n",
       "      <td>14999.000000</td>\n",
       "      <td>14999.000000</td>\n",
       "    </tr>\n",
       "    <tr>\n",
       "      <th>mean</th>\n",
       "      <td>0.716102</td>\n",
       "      <td>3.803054</td>\n",
       "      <td>201.050337</td>\n",
       "      <td>3.498233</td>\n",
       "      <td>0.604098</td>\n",
       "    </tr>\n",
       "    <tr>\n",
       "      <th>std</th>\n",
       "      <td>0.171169</td>\n",
       "      <td>1.232592</td>\n",
       "      <td>49.943099</td>\n",
       "      <td>1.460136</td>\n",
       "      <td>0.070502</td>\n",
       "    </tr>\n",
       "    <tr>\n",
       "      <th>min</th>\n",
       "      <td>0.360000</td>\n",
       "      <td>2.000000</td>\n",
       "      <td>96.000000</td>\n",
       "      <td>2.000000</td>\n",
       "      <td>0.393939</td>\n",
       "    </tr>\n",
       "    <tr>\n",
       "      <th>25%</th>\n",
       "      <td>0.560000</td>\n",
       "      <td>3.000000</td>\n",
       "      <td>156.000000</td>\n",
       "      <td>3.000000</td>\n",
       "      <td>0.551515</td>\n",
       "    </tr>\n",
       "    <tr>\n",
       "      <th>50%</th>\n",
       "      <td>0.720000</td>\n",
       "      <td>4.000000</td>\n",
       "      <td>200.000000</td>\n",
       "      <td>3.000000</td>\n",
       "      <td>0.593939</td>\n",
       "    </tr>\n",
       "    <tr>\n",
       "      <th>75%</th>\n",
       "      <td>0.870000</td>\n",
       "      <td>5.000000</td>\n",
       "      <td>245.000000</td>\n",
       "      <td>4.000000</td>\n",
       "      <td>0.666667</td>\n",
       "    </tr>\n",
       "    <tr>\n",
       "      <th>max</th>\n",
       "      <td>1.000000</td>\n",
       "      <td>7.000000</td>\n",
       "      <td>310.000000</td>\n",
       "      <td>10.000000</td>\n",
       "      <td>0.806061</td>\n",
       "    </tr>\n",
       "  </tbody>\n",
       "</table>\n",
       "</div>"
      ],
      "text/plain": [
       "       last_evaluation  number_project  average_montly_hours  \\\n",
       "count     14999.000000    14999.000000          14999.000000   \n",
       "mean          0.716102        3.803054            201.050337   \n",
       "std           0.171169        1.232592             49.943099   \n",
       "min           0.360000        2.000000             96.000000   \n",
       "25%           0.560000        3.000000            156.000000   \n",
       "50%           0.720000        4.000000            200.000000   \n",
       "75%           0.870000        5.000000            245.000000   \n",
       "max           1.000000        7.000000            310.000000   \n",
       "\n",
       "       time_spend_company  Satisfaction  \n",
       "count        14999.000000  14999.000000  \n",
       "mean             3.498233      0.604098  \n",
       "std              1.460136      0.070502  \n",
       "min              2.000000      0.393939  \n",
       "25%              3.000000      0.551515  \n",
       "50%              3.000000      0.593939  \n",
       "75%              4.000000      0.666667  \n",
       "max             10.000000      0.806061  "
      ]
     },
     "execution_count": 166,
     "metadata": {},
     "output_type": "execute_result"
    }
   ],
   "source": [
    "#getting statistical summary of non-nominal and non-categorical features\n",
    "sub_data.drop(['left_Company','Will_Relocate','Work_accident','promotion_last_5years'],axis=1).describe()"
   ]
  },
  {
   "cell_type": "code",
   "execution_count": 167,
   "id": "8ef2e7fd",
   "metadata": {},
   "outputs": [
    {
     "data": {
      "text/html": [
       "<div>\n",
       "<style scoped>\n",
       "    .dataframe tbody tr th:only-of-type {\n",
       "        vertical-align: middle;\n",
       "    }\n",
       "\n",
       "    .dataframe tbody tr th {\n",
       "        vertical-align: top;\n",
       "    }\n",
       "\n",
       "    .dataframe thead th {\n",
       "        text-align: right;\n",
       "    }\n",
       "</style>\n",
       "<table border=\"1\" class=\"dataframe\">\n",
       "  <thead>\n",
       "    <tr style=\"text-align: right;\">\n",
       "      <th></th>\n",
       "      <th>Role</th>\n",
       "      <th>salary</th>\n",
       "      <th>Gender</th>\n",
       "    </tr>\n",
       "  </thead>\n",
       "  <tbody>\n",
       "    <tr>\n",
       "      <th>count</th>\n",
       "      <td>14999</td>\n",
       "      <td>14999</td>\n",
       "      <td>14999</td>\n",
       "    </tr>\n",
       "    <tr>\n",
       "      <th>unique</th>\n",
       "      <td>7</td>\n",
       "      <td>3</td>\n",
       "      <td>2</td>\n",
       "    </tr>\n",
       "    <tr>\n",
       "      <th>top</th>\n",
       "      <td>Level 2-4</td>\n",
       "      <td>low</td>\n",
       "      <td>F</td>\n",
       "    </tr>\n",
       "    <tr>\n",
       "      <th>freq</th>\n",
       "      <td>6889</td>\n",
       "      <td>7316</td>\n",
       "      <td>7596</td>\n",
       "    </tr>\n",
       "  </tbody>\n",
       "</table>\n",
       "</div>"
      ],
      "text/plain": [
       "             Role salary Gender\n",
       "count       14999  14999  14999\n",
       "unique          7      3      2\n",
       "top     Level 2-4    low      F\n",
       "freq         6889   7316   7596"
      ]
     },
     "execution_count": 167,
     "metadata": {},
     "output_type": "execute_result"
    }
   ],
   "source": [
    "sub_data.describe(include = 'object')"
   ]
  },
  {
   "cell_type": "markdown",
   "id": "bdd665ac",
   "metadata": {},
   "source": [
    "### 3.2. Bivariate Analysis"
   ]
  },
  {
   "cell_type": "code",
   "execution_count": 168,
   "id": "08ab778b",
   "metadata": {},
   "outputs": [
    {
     "data": {
      "image/png": "[encoded data removed]",
      "text/plain": [
       "<Figure size 720x432 with 1 Axes>"
      ]
     },
     "metadata": {
      "needs_background": "light"
     },
     "output_type": "display_data"
    }
   ],
   "source": [
    "#role-leftcompany\n",
    "plt.figure(figsize=(10,6))\n",
    "plot = sns.countplot(x='Role',hue='left_Company',data=sub_data)\n",
    "plt.title(\"Role Vs Employee attrition count\",fontsize=16)\n",
    "plt.legend(title='Attrition', loc='best', labels=['No', 'Yes'])\n",
    "plt.bar_label(plot.containers[0],fontsize=12)\n",
    "plt.bar_label(plot.containers[1],fontsize=12)\n",
    "plt.show()"
   ]
  },
  {
   "cell_type": "markdown",
   "id": "8b732922",
   "metadata": {},
   "source": [
    "About 22-27% of employees from each Role left the company."
   ]
  },
  {
   "cell_type": "code",
   "execution_count": 169,
   "id": "176d8f21",
   "metadata": {},
   "outputs": [
    {
     "data": {
      "image/png": "[encoded data removed]",
      "text/plain": [
       "<Figure size 720x432 with 1 Axes>"
      ]
     },
     "metadata": {
      "needs_background": "light"
     },
     "output_type": "display_data"
    }
   ],
   "source": [
    "#salary-leftCompany\n",
    "plt.figure(figsize=(10,6))\n",
    "plot = sns.countplot(x='salary',hue='left_Company',data=sub_data)\n",
    "plt.title(\"Salary Vs Employee attrition count\",fontsize=16)\n",
    "plt.legend(title='Attrition', loc='best', labels=['No', 'Yes'])\n",
    "plt.bar_label(plot.containers[0],fontsize=12)\n",
    "plt.bar_label(plot.containers[1],fontsize=12)\n",
    "plt.show()"
   ]
  },
  {
   "cell_type": "markdown",
   "id": "6fb8520f",
   "metadata": {},
   "source": [
    "More proportion(about 29%) of employees with low salary left from the company, while in case of employees with high salary, very small proportion(6%) left from the company. This indicates that a high salary and higher work role can prevent employee attrition to an extend."
   ]
  },
  {
   "cell_type": "code",
   "execution_count": 170,
   "id": "120cc7be",
   "metadata": {},
   "outputs": [
    {
     "data": {
      "image/png": "[encoded data removed]",
      "text/plain": [
       "<Figure size 576x432 with 1 Axes>"
      ]
     },
     "metadata": {
      "needs_background": "light"
     },
     "output_type": "display_data"
    }
   ],
   "source": [
    "#relocate-leftCompany\n",
    "plt.figure(figsize=(8,6))\n",
    "plot = sns.countplot(x='Will_Relocate',hue='left_Company',data=sub_data)\n",
    "plt.title(\"Willing to relocate Vs Employee attrition count\",fontsize=16)\n",
    "plt.legend(title='Attrition', loc='best', labels=['No', 'Yes'])\n",
    "plt.bar_label(plot.containers[0],fontsize=12)\n",
    "plt.bar_label(plot.containers[1],fontsize=12)\n",
    "plt.show()"
   ]
  },
  {
   "cell_type": "markdown",
   "id": "bddc772f",
   "metadata": {},
   "source": [
    "From the above bar graph it can be inferred that the employee's willingness to relocate does not have a significant impact on attrition."
   ]
  },
  {
   "cell_type": "code",
   "execution_count": 171,
   "id": "b24790f1",
   "metadata": {},
   "outputs": [
    {
     "data": {
      "image/png": "[encoded data removed]",
      "text/plain": [
       "<Figure size 576x432 with 1 Axes>"
      ]
     },
     "metadata": {
      "needs_background": "light"
     },
     "output_type": "display_data"
    }
   ],
   "source": [
    "#gender-leftCompany\n",
    "plt.figure(figsize=(8,6))\n",
    "plot = sns.countplot(x='Gender',hue='left_Company',data=sub_data)\n",
    "plt.title(\"Gender Vs Employee attrition count\",fontsize=16)\n",
    "plt.legend(title='Attrition', loc='best', labels=['No', 'Yes'])\n",
    "plt.bar_label(plot.containers[0],fontsize=12)\n",
    "plt.bar_label(plot.containers[1],fontsize=12)\n",
    "plt.show()"
   ]
  },
  {
   "cell_type": "markdown",
   "id": "295a9ed0",
   "metadata": {},
   "source": [
    "As in the case of employee's willingness to relocate, the gender of the employee is also not having an impact on employee attrition."
   ]
  },
  {
   "cell_type": "code",
   "execution_count": 172,
   "id": "1df7812f",
   "metadata": {},
   "outputs": [
    {
     "data": {
      "image/png": "[encoded data removed]",
      "text/plain": [
       "<Figure size 576x432 with 1 Axes>"
      ]
     },
     "metadata": {
      "needs_background": "light"
     },
     "output_type": "display_data"
    }
   ],
   "source": [
    "#workAccident-leftCompany\n",
    "plt.figure(figsize=(8,6))\n",
    "plot = sns.countplot(x='Work_accident',hue='left_Company',data=sub_data)\n",
    "plt.title(\"Work accident Vs Employee attrition count\",fontsize=16)\n",
    "plt.legend(title='Attrition', loc='best', labels=['No', 'Yes'])\n",
    "plt.bar_label(plot.containers[0],fontsize=12)\n",
    "plt.bar_label(plot.containers[1],fontsize=12)\n",
    "plt.show()"
   ]
  },
  {
   "cell_type": "markdown",
   "id": "cba9ef03",
   "metadata": {},
   "source": [
    "We can not say work accident have a huge role in employee attrition. The percentage of employee left w.r.t no work accident 26% and w.r.t work accident 7%"
   ]
  },
  {
   "cell_type": "code",
   "execution_count": 173,
   "id": "af123bdc",
   "metadata": {},
   "outputs": [
    {
     "data": {
      "image/png": "[encoded data removed]",
      "text/plain": [
       "<Figure size 720x360 with 1 Axes>"
      ]
     },
     "metadata": {
      "needs_background": "light"
     },
     "output_type": "display_data"
    }
   ],
   "source": [
    "#last_evaluation score and employee attrition\n",
    "plt.figure(figsize=(10,5))\n",
    "sns.histplot(data=sub_data, x=\"last_evaluation\", hue=\"left_Company\",kde=True)\n",
    "plt.title(\"Last evaluation score Vs employee attrition\",fontsize=16)\n",
    "plt.legend(title='Attrition', loc='best', labels=['Yes', 'No'])\n",
    "plt.show()"
   ]
  },
  {
   "cell_type": "markdown",
   "id": "3e7c6b7a",
   "metadata": {},
   "source": [
    "Employees having average evaluation score continues to stay in the company. This may be because they are average performers and they willing to continue and improvise."
   ]
  },
  {
   "cell_type": "code",
   "execution_count": 174,
   "id": "7d76859f",
   "metadata": {
    "scrolled": true
   },
   "outputs": [
    {
     "data": {
      "image/png": "[encoded data removed]",
      "text/plain": [
       "<Figure size 576x432 with 1 Axes>"
      ]
     },
     "metadata": {
      "needs_background": "light"
     },
     "output_type": "display_data"
    }
   ],
   "source": [
    "#number of project and employee attrition\n",
    "plt.figure(figsize=(8,6))\n",
    "plot = sns.countplot(x='number_project',hue='left_Company',data=sub_data)\n",
    "plt.title(\"Number of project Vs Employee attrition count\",fontsize=16)\n",
    "plt.legend(title='Attrition', loc='best', labels=['No', 'Yes'])\n",
    "plt.bar_label(plot.containers[0],fontsize=12)\n",
    "plt.bar_label(plot.containers[1],fontsize=12)\n",
    "plt.show()"
   ]
  },
  {
   "cell_type": "markdown",
   "id": "e94ff168",
   "metadata": {},
   "source": [
    "We can't say any is there any strong relation between no.of projects and employee attrition. However, we may say that employess prefer no.of project between 3-5 and continuing their work at company. "
   ]
  },
  {
   "cell_type": "code",
   "execution_count": 175,
   "id": "01264fd7",
   "metadata": {},
   "outputs": [
    {
     "data": {
      "image/png": "[encoded data removed]",
      "text/plain": [
       "<Figure size 720x360 with 1 Axes>"
      ]
     },
     "metadata": {
      "needs_background": "light"
     },
     "output_type": "display_data"
    }
   ],
   "source": [
    "#average monthly hours and employee attrition\n",
    "plt.figure(figsize=(10,5))\n",
    "sns.histplot(data=sub_data, x=\"average_montly_hours\", hue=\"left_Company\",kde=True)\n",
    "plt.title(\"Average monthly hours Vs employee attrition\",fontsize=16)\n",
    "plt.legend(title='Attrition', loc='best', labels=['Yes', 'No'])\n",
    "plt.show()"
   ]
  },
  {
   "cell_type": "markdown",
   "id": "9096a023",
   "metadata": {},
   "source": [
    "Employee who is working on an average of around 190 hours a month(8 hours a day with two weekend days off) seems to continue within the company. There are some employees who works on an average of 300 hours a month(more than 13 hours a day with two weekend days off) and obviously, they left the company."
   ]
  },
  {
   "cell_type": "code",
   "execution_count": 176,
   "id": "e7b6ae1b",
   "metadata": {},
   "outputs": [
    {
     "data": {
      "image/png": "[encoded data removed]",
      "text/plain": [
       "<Figure size 576x432 with 1 Axes>"
      ]
     },
     "metadata": {
      "needs_background": "light"
     },
     "output_type": "display_data"
    }
   ],
   "source": [
    "#years of service and employee attrition\n",
    "plt.figure(figsize=(8,6))\n",
    "plot = sns.countplot(x='time_spend_company',hue='left_Company',data=sub_data)\n",
    "plt.title(\"Years of service Vs Employee attrition count\",fontsize=16)\n",
    "plt.legend(title='Attrition', loc='best', labels=['No', 'Yes'])\n",
    "plt.bar_label(plot.containers[0],fontsize=12)\n",
    "plt.bar_label(plot.containers[1],fontsize=12)\n",
    "plt.show()"
   ]
  },
  {
   "cell_type": "markdown",
   "id": "8e56541d",
   "metadata": {},
   "source": [
    "Most of the employees worked for three years. Based on years of service, the employee attrition does not follow a particular pattern except after completing 7 years of service. Employees who stayed with the company for more than 7 years can get higher job role and hence higher salary. May be because of that they didn't leave the company."
   ]
  },
  {
   "cell_type": "code",
   "execution_count": 177,
   "id": "45e5b3e0",
   "metadata": {},
   "outputs": [
    {
     "data": {
      "image/png": "[encoded data removed]",
      "text/plain": [
       "<Figure size 720x360 with 1 Axes>"
      ]
     },
     "metadata": {
      "needs_background": "light"
     },
     "output_type": "display_data"
    }
   ],
   "source": [
    "#satisfaction and employee attrition\n",
    "plt.figure(figsize=(10,5))\n",
    "sns.histplot(data=sub_data, x=\"Satisfaction\", hue=\"left_Company\",kde=True)\n",
    "plt.title(\"Satisfaction Vs employee attrition\",fontsize=16)\n",
    "plt.legend(title='Attrition', loc='best', labels=['Yes', 'No'])\n",
    "plt.show()"
   ]
  },
  {
   "cell_type": "markdown",
   "id": "19392bc4",
   "metadata": {},
   "source": [
    "From the graph we can clearly see that those employees who have a low satisfaction level left the company."
   ]
  },
  {
   "cell_type": "markdown",
   "id": "579723b2",
   "metadata": {},
   "source": [
    "# 2b. Pre-processing (2nd Stage)"
   ]
  },
  {
   "cell_type": "markdown",
   "id": "8b461304",
   "metadata": {},
   "source": [
    "#### 2.5. Encoding"
   ]
  },
  {
   "cell_type": "code",
   "execution_count": 178,
   "id": "c5645e72",
   "metadata": {},
   "outputs": [
    {
     "data": {
      "text/html": [
       "<div>\n",
       "<style scoped>\n",
       "    .dataframe tbody tr th:only-of-type {\n",
       "        vertical-align: middle;\n",
       "    }\n",
       "\n",
       "    .dataframe tbody tr th {\n",
       "        vertical-align: top;\n",
       "    }\n",
       "\n",
       "    .dataframe thead th {\n",
       "        text-align: right;\n",
       "    }\n",
       "</style>\n",
       "<table border=\"1\" class=\"dataframe\">\n",
       "  <thead>\n",
       "    <tr style=\"text-align: right;\">\n",
       "      <th></th>\n",
       "      <th>Role</th>\n",
       "      <th>Will_Relocate</th>\n",
       "      <th>last_evaluation</th>\n",
       "      <th>number_project</th>\n",
       "      <th>average_montly_hours</th>\n",
       "      <th>time_spend_company</th>\n",
       "      <th>Work_accident</th>\n",
       "      <th>left_Company</th>\n",
       "      <th>promotion_last_5years</th>\n",
       "      <th>salary</th>\n",
       "      <th>Gender</th>\n",
       "      <th>Satisfaction</th>\n",
       "    </tr>\n",
       "  </thead>\n",
       "  <tbody>\n",
       "    <tr>\n",
       "      <th>0</th>\n",
       "      <td>VP</td>\n",
       "      <td>0</td>\n",
       "      <td>0.36</td>\n",
       "      <td>3</td>\n",
       "      <td>168</td>\n",
       "      <td>3</td>\n",
       "      <td>1</td>\n",
       "      <td>0</td>\n",
       "      <td>0</td>\n",
       "      <td>low</td>\n",
       "      <td>M</td>\n",
       "      <td>0.539394</td>\n",
       "    </tr>\n",
       "    <tr>\n",
       "      <th>1</th>\n",
       "      <td>Senior Director</td>\n",
       "      <td>0</td>\n",
       "      <td>0.36</td>\n",
       "      <td>5</td>\n",
       "      <td>159</td>\n",
       "      <td>2</td>\n",
       "      <td>0</td>\n",
       "      <td>0</td>\n",
       "      <td>0</td>\n",
       "      <td>low</td>\n",
       "      <td>F</td>\n",
       "      <td>0.581818</td>\n",
       "    </tr>\n",
       "    <tr>\n",
       "      <th>2</th>\n",
       "      <td>Senior Director</td>\n",
       "      <td>0</td>\n",
       "      <td>0.36</td>\n",
       "      <td>2</td>\n",
       "      <td>282</td>\n",
       "      <td>3</td>\n",
       "      <td>0</td>\n",
       "      <td>0</td>\n",
       "      <td>0</td>\n",
       "      <td>medium</td>\n",
       "      <td>F</td>\n",
       "      <td>0.587879</td>\n",
       "    </tr>\n",
       "    <tr>\n",
       "      <th>3</th>\n",
       "      <td>Senior Director</td>\n",
       "      <td>0</td>\n",
       "      <td>0.36</td>\n",
       "      <td>4</td>\n",
       "      <td>278</td>\n",
       "      <td>4</td>\n",
       "      <td>1</td>\n",
       "      <td>0</td>\n",
       "      <td>0</td>\n",
       "      <td>high</td>\n",
       "      <td>M</td>\n",
       "      <td>0.557576</td>\n",
       "    </tr>\n",
       "    <tr>\n",
       "      <th>4</th>\n",
       "      <td>Director</td>\n",
       "      <td>0</td>\n",
       "      <td>0.36</td>\n",
       "      <td>6</td>\n",
       "      <td>256</td>\n",
       "      <td>5</td>\n",
       "      <td>0</td>\n",
       "      <td>0</td>\n",
       "      <td>0</td>\n",
       "      <td>low</td>\n",
       "      <td>F</td>\n",
       "      <td>0.636364</td>\n",
       "    </tr>\n",
       "  </tbody>\n",
       "</table>\n",
       "</div>"
      ],
      "text/plain": [
       "              Role  Will_Relocate  last_evaluation  number_project  \\\n",
       "0               VP              0             0.36               3   \n",
       "1  Senior Director              0             0.36               5   \n",
       "2  Senior Director              0             0.36               2   \n",
       "3  Senior Director              0             0.36               4   \n",
       "4         Director              0             0.36               6   \n",
       "\n",
       "   average_montly_hours  time_spend_company  Work_accident  left_Company  \\\n",
       "0                   168                   3              1             0   \n",
       "1                   159                   2              0             0   \n",
       "2                   282                   3              0             0   \n",
       "3                   278                   4              1             0   \n",
       "4                   256                   5              0             0   \n",
       "\n",
       "   promotion_last_5years  salary Gender  Satisfaction  \n",
       "0                      0     low      M      0.539394  \n",
       "1                      0     low      F      0.581818  \n",
       "2                      0  medium      F      0.587879  \n",
       "3                      0    high      M      0.557576  \n",
       "4                      0     low      F      0.636364  "
      ]
     },
     "execution_count": 178,
     "metadata": {},
     "output_type": "execute_result"
    }
   ],
   "source": [
    "sub_data.head()"
   ]
  },
  {
   "cell_type": "markdown",
   "id": "792c7958",
   "metadata": {},
   "source": [
    "- There are few categorical columns present in the dataset. With the help of Encoding, we will handle them."
   ]
  },
  {
   "cell_type": "markdown",
   "id": "b1d4cda7",
   "metadata": {},
   "source": [
    "#### One Hot Encoding"
   ]
  },
  {
   "cell_type": "code",
   "execution_count": 179,
   "id": "60c1894e",
   "metadata": {},
   "outputs": [
    {
     "data": {
      "text/html": [
       "<div>\n",
       "<style scoped>\n",
       "    .dataframe tbody tr th:only-of-type {\n",
       "        vertical-align: middle;\n",
       "    }\n",
       "\n",
       "    .dataframe tbody tr th {\n",
       "        vertical-align: top;\n",
       "    }\n",
       "\n",
       "    .dataframe thead th {\n",
       "        text-align: right;\n",
       "    }\n",
       "</style>\n",
       "<table border=\"1\" class=\"dataframe\">\n",
       "  <thead>\n",
       "    <tr style=\"text-align: right;\">\n",
       "      <th></th>\n",
       "      <th>Will_Relocate</th>\n",
       "      <th>last_evaluation</th>\n",
       "      <th>number_project</th>\n",
       "      <th>average_montly_hours</th>\n",
       "      <th>time_spend_company</th>\n",
       "      <th>Work_accident</th>\n",
       "      <th>left_Company</th>\n",
       "      <th>promotion_last_5years</th>\n",
       "      <th>Satisfaction</th>\n",
       "      <th>Role_Director</th>\n",
       "      <th>Role_Level 1</th>\n",
       "      <th>Role_Level 2-4</th>\n",
       "      <th>Role_Manager</th>\n",
       "      <th>Role_Senior Director</th>\n",
       "      <th>Role_Senior Manager</th>\n",
       "      <th>Role_VP</th>\n",
       "      <th>salary_high</th>\n",
       "      <th>salary_low</th>\n",
       "      <th>salary_medium</th>\n",
       "      <th>Gender_F</th>\n",
       "      <th>Gender_M</th>\n",
       "    </tr>\n",
       "  </thead>\n",
       "  <tbody>\n",
       "    <tr>\n",
       "      <th>0</th>\n",
       "      <td>0</td>\n",
       "      <td>0.36</td>\n",
       "      <td>3</td>\n",
       "      <td>168</td>\n",
       "      <td>3</td>\n",
       "      <td>1</td>\n",
       "      <td>0</td>\n",
       "      <td>0</td>\n",
       "      <td>0.539394</td>\n",
       "      <td>0</td>\n",
       "      <td>0</td>\n",
       "      <td>0</td>\n",
       "      <td>0</td>\n",
       "      <td>0</td>\n",
       "      <td>0</td>\n",
       "      <td>1</td>\n",
       "      <td>0</td>\n",
       "      <td>1</td>\n",
       "      <td>0</td>\n",
       "      <td>0</td>\n",
       "      <td>1</td>\n",
       "    </tr>\n",
       "    <tr>\n",
       "      <th>1</th>\n",
       "      <td>0</td>\n",
       "      <td>0.36</td>\n",
       "      <td>5</td>\n",
       "      <td>159</td>\n",
       "      <td>2</td>\n",
       "      <td>0</td>\n",
       "      <td>0</td>\n",
       "      <td>0</td>\n",
       "      <td>0.581818</td>\n",
       "      <td>0</td>\n",
       "      <td>0</td>\n",
       "      <td>0</td>\n",
       "      <td>0</td>\n",
       "      <td>1</td>\n",
       "      <td>0</td>\n",
       "      <td>0</td>\n",
       "      <td>0</td>\n",
       "      <td>1</td>\n",
       "      <td>0</td>\n",
       "      <td>1</td>\n",
       "      <td>0</td>\n",
       "    </tr>\n",
       "    <tr>\n",
       "      <th>2</th>\n",
       "      <td>0</td>\n",
       "      <td>0.36</td>\n",
       "      <td>2</td>\n",
       "      <td>282</td>\n",
       "      <td>3</td>\n",
       "      <td>0</td>\n",
       "      <td>0</td>\n",
       "      <td>0</td>\n",
       "      <td>0.587879</td>\n",
       "      <td>0</td>\n",
       "      <td>0</td>\n",
       "      <td>0</td>\n",
       "      <td>0</td>\n",
       "      <td>1</td>\n",
       "      <td>0</td>\n",
       "      <td>0</td>\n",
       "      <td>0</td>\n",
       "      <td>0</td>\n",
       "      <td>1</td>\n",
       "      <td>1</td>\n",
       "      <td>0</td>\n",
       "    </tr>\n",
       "    <tr>\n",
       "      <th>3</th>\n",
       "      <td>0</td>\n",
       "      <td>0.36</td>\n",
       "      <td>4</td>\n",
       "      <td>278</td>\n",
       "      <td>4</td>\n",
       "      <td>1</td>\n",
       "      <td>0</td>\n",
       "      <td>0</td>\n",
       "      <td>0.557576</td>\n",
       "      <td>0</td>\n",
       "      <td>0</td>\n",
       "      <td>0</td>\n",
       "      <td>0</td>\n",
       "      <td>1</td>\n",
       "      <td>0</td>\n",
       "      <td>0</td>\n",
       "      <td>1</td>\n",
       "      <td>0</td>\n",
       "      <td>0</td>\n",
       "      <td>0</td>\n",
       "      <td>1</td>\n",
       "    </tr>\n",
       "    <tr>\n",
       "      <th>4</th>\n",
       "      <td>0</td>\n",
       "      <td>0.36</td>\n",
       "      <td>6</td>\n",
       "      <td>256</td>\n",
       "      <td>5</td>\n",
       "      <td>0</td>\n",
       "      <td>0</td>\n",
       "      <td>0</td>\n",
       "      <td>0.636364</td>\n",
       "      <td>1</td>\n",
       "      <td>0</td>\n",
       "      <td>0</td>\n",
       "      <td>0</td>\n",
       "      <td>0</td>\n",
       "      <td>0</td>\n",
       "      <td>0</td>\n",
       "      <td>0</td>\n",
       "      <td>1</td>\n",
       "      <td>0</td>\n",
       "      <td>1</td>\n",
       "      <td>0</td>\n",
       "    </tr>\n",
       "  </tbody>\n",
       "</table>\n",
       "</div>"
      ],
      "text/plain": [
       "   Will_Relocate  last_evaluation  number_project  average_montly_hours  \\\n",
       "0              0             0.36               3                   168   \n",
       "1              0             0.36               5                   159   \n",
       "2              0             0.36               2                   282   \n",
       "3              0             0.36               4                   278   \n",
       "4              0             0.36               6                   256   \n",
       "\n",
       "   time_spend_company  Work_accident  left_Company  promotion_last_5years  \\\n",
       "0                   3              1             0                      0   \n",
       "1                   2              0             0                      0   \n",
       "2                   3              0             0                      0   \n",
       "3                   4              1             0                      0   \n",
       "4                   5              0             0                      0   \n",
       "\n",
       "   Satisfaction  Role_Director  Role_Level 1  Role_Level 2-4  Role_Manager  \\\n",
       "0      0.539394              0             0               0             0   \n",
       "1      0.581818              0             0               0             0   \n",
       "2      0.587879              0             0               0             0   \n",
       "3      0.557576              0             0               0             0   \n",
       "4      0.636364              1             0               0             0   \n",
       "\n",
       "   Role_Senior Director  Role_Senior Manager  Role_VP  salary_high  \\\n",
       "0                     0                    0        1            0   \n",
       "1                     1                    0        0            0   \n",
       "2                     1                    0        0            0   \n",
       "3                     1                    0        0            1   \n",
       "4                     0                    0        0            0   \n",
       "\n",
       "   salary_low  salary_medium  Gender_F  Gender_M  \n",
       "0           1              0         0         1  \n",
       "1           1              0         1         0  \n",
       "2           0              1         1         0  \n",
       "3           0              0         0         1  \n",
       "4           1              0         1         0  "
      ]
     },
     "execution_count": 179,
     "metadata": {},
     "output_type": "execute_result"
    }
   ],
   "source": [
    "sub_data = pd.get_dummies(sub_data)\n",
    "sub_data.head()"
   ]
  },
  {
   "cell_type": "markdown",
   "id": "9676cbe8",
   "metadata": {},
   "source": [
    "- We now converted all the categorical columns to its corresponding numerical using One Hot Encoding"
   ]
  },
  {
   "cell_type": "markdown",
   "id": "fddaa34b",
   "metadata": {},
   "source": [
    "#### 2.6. Standardization/Normalization"
   ]
  },
  {
   "cell_type": "code",
   "execution_count": 180,
   "id": "6b4874d0",
   "metadata": {},
   "outputs": [],
   "source": [
    "# Making the column 'left_Company' as target vector and others as feature matrix"
   ]
  },
  {
   "cell_type": "code",
   "execution_count": 181,
   "id": "08f630b8",
   "metadata": {},
   "outputs": [],
   "source": [
    "X = sub_data.drop(['left_Company'], axis = 1)\n",
    "y = sub_data['left_Company']"
   ]
  },
  {
   "cell_type": "code",
   "execution_count": 182,
   "id": "a630ab31",
   "metadata": {},
   "outputs": [
    {
     "data": {
      "text/html": [
       "<div>\n",
       "<style scoped>\n",
       "    .dataframe tbody tr th:only-of-type {\n",
       "        vertical-align: middle;\n",
       "    }\n",
       "\n",
       "    .dataframe tbody tr th {\n",
       "        vertical-align: top;\n",
       "    }\n",
       "\n",
       "    .dataframe thead th {\n",
       "        text-align: right;\n",
       "    }\n",
       "</style>\n",
       "<table border=\"1\" class=\"dataframe\">\n",
       "  <thead>\n",
       "    <tr style=\"text-align: right;\">\n",
       "      <th></th>\n",
       "      <th>Will_Relocate</th>\n",
       "      <th>last_evaluation</th>\n",
       "      <th>number_project</th>\n",
       "      <th>average_montly_hours</th>\n",
       "      <th>time_spend_company</th>\n",
       "      <th>Work_accident</th>\n",
       "      <th>promotion_last_5years</th>\n",
       "      <th>Satisfaction</th>\n",
       "      <th>Role_Director</th>\n",
       "      <th>Role_Level 1</th>\n",
       "      <th>Role_Level 2-4</th>\n",
       "      <th>Role_Manager</th>\n",
       "      <th>Role_Senior Director</th>\n",
       "      <th>Role_Senior Manager</th>\n",
       "      <th>Role_VP</th>\n",
       "      <th>salary_high</th>\n",
       "      <th>salary_low</th>\n",
       "      <th>salary_medium</th>\n",
       "      <th>Gender_F</th>\n",
       "      <th>Gender_M</th>\n",
       "    </tr>\n",
       "  </thead>\n",
       "  <tbody>\n",
       "    <tr>\n",
       "      <th>count</th>\n",
       "      <td>14999.000000</td>\n",
       "      <td>14999.000000</td>\n",
       "      <td>14999.000000</td>\n",
       "      <td>14999.000000</td>\n",
       "      <td>14999.000000</td>\n",
       "      <td>14999.000000</td>\n",
       "      <td>14999.000000</td>\n",
       "      <td>14999.000000</td>\n",
       "      <td>14999.000000</td>\n",
       "      <td>14999.000000</td>\n",
       "      <td>14999.000000</td>\n",
       "      <td>14999.000000</td>\n",
       "      <td>14999.000000</td>\n",
       "      <td>14999.000000</td>\n",
       "      <td>14999.000000</td>\n",
       "      <td>14999.000000</td>\n",
       "      <td>14999.000000</td>\n",
       "      <td>14999.000000</td>\n",
       "      <td>14999.000000</td>\n",
       "      <td>14999.000000</td>\n",
       "    </tr>\n",
       "    <tr>\n",
       "      <th>mean</th>\n",
       "      <td>0.499833</td>\n",
       "      <td>0.716102</td>\n",
       "      <td>3.803054</td>\n",
       "      <td>201.050337</td>\n",
       "      <td>3.498233</td>\n",
       "      <td>0.144610</td>\n",
       "      <td>0.021268</td>\n",
       "      <td>0.604098</td>\n",
       "      <td>0.044003</td>\n",
       "      <td>0.218015</td>\n",
       "      <td>0.459297</td>\n",
       "      <td>0.161344</td>\n",
       "      <td>0.022001</td>\n",
       "      <td>0.088006</td>\n",
       "      <td>0.007334</td>\n",
       "      <td>0.082472</td>\n",
       "      <td>0.487766</td>\n",
       "      <td>0.429762</td>\n",
       "      <td>0.506434</td>\n",
       "      <td>0.493566</td>\n",
       "    </tr>\n",
       "    <tr>\n",
       "      <th>std</th>\n",
       "      <td>0.500017</td>\n",
       "      <td>0.171169</td>\n",
       "      <td>1.232592</td>\n",
       "      <td>49.943099</td>\n",
       "      <td>1.460136</td>\n",
       "      <td>0.351719</td>\n",
       "      <td>0.144281</td>\n",
       "      <td>0.070502</td>\n",
       "      <td>0.205108</td>\n",
       "      <td>0.412911</td>\n",
       "      <td>0.498357</td>\n",
       "      <td>0.367860</td>\n",
       "      <td>0.146693</td>\n",
       "      <td>0.283313</td>\n",
       "      <td>0.085326</td>\n",
       "      <td>0.275092</td>\n",
       "      <td>0.499867</td>\n",
       "      <td>0.495059</td>\n",
       "      <td>0.499975</td>\n",
       "      <td>0.499975</td>\n",
       "    </tr>\n",
       "    <tr>\n",
       "      <th>min</th>\n",
       "      <td>0.000000</td>\n",
       "      <td>0.360000</td>\n",
       "      <td>2.000000</td>\n",
       "      <td>96.000000</td>\n",
       "      <td>2.000000</td>\n",
       "      <td>0.000000</td>\n",
       "      <td>0.000000</td>\n",
       "      <td>0.393939</td>\n",
       "      <td>0.000000</td>\n",
       "      <td>0.000000</td>\n",
       "      <td>0.000000</td>\n",
       "      <td>0.000000</td>\n",
       "      <td>0.000000</td>\n",
       "      <td>0.000000</td>\n",
       "      <td>0.000000</td>\n",
       "      <td>0.000000</td>\n",
       "      <td>0.000000</td>\n",
       "      <td>0.000000</td>\n",
       "      <td>0.000000</td>\n",
       "      <td>0.000000</td>\n",
       "    </tr>\n",
       "    <tr>\n",
       "      <th>25%</th>\n",
       "      <td>0.000000</td>\n",
       "      <td>0.560000</td>\n",
       "      <td>3.000000</td>\n",
       "      <td>156.000000</td>\n",
       "      <td>3.000000</td>\n",
       "      <td>0.000000</td>\n",
       "      <td>0.000000</td>\n",
       "      <td>0.551515</td>\n",
       "      <td>0.000000</td>\n",
       "      <td>0.000000</td>\n",
       "      <td>0.000000</td>\n",
       "      <td>0.000000</td>\n",
       "      <td>0.000000</td>\n",
       "      <td>0.000000</td>\n",
       "      <td>0.000000</td>\n",
       "      <td>0.000000</td>\n",
       "      <td>0.000000</td>\n",
       "      <td>0.000000</td>\n",
       "      <td>0.000000</td>\n",
       "      <td>0.000000</td>\n",
       "    </tr>\n",
       "    <tr>\n",
       "      <th>50%</th>\n",
       "      <td>0.000000</td>\n",
       "      <td>0.720000</td>\n",
       "      <td>4.000000</td>\n",
       "      <td>200.000000</td>\n",
       "      <td>3.000000</td>\n",
       "      <td>0.000000</td>\n",
       "      <td>0.000000</td>\n",
       "      <td>0.593939</td>\n",
       "      <td>0.000000</td>\n",
       "      <td>0.000000</td>\n",
       "      <td>0.000000</td>\n",
       "      <td>0.000000</td>\n",
       "      <td>0.000000</td>\n",
       "      <td>0.000000</td>\n",
       "      <td>0.000000</td>\n",
       "      <td>0.000000</td>\n",
       "      <td>0.000000</td>\n",
       "      <td>0.000000</td>\n",
       "      <td>1.000000</td>\n",
       "      <td>0.000000</td>\n",
       "    </tr>\n",
       "    <tr>\n",
       "      <th>75%</th>\n",
       "      <td>1.000000</td>\n",
       "      <td>0.870000</td>\n",
       "      <td>5.000000</td>\n",
       "      <td>245.000000</td>\n",
       "      <td>4.000000</td>\n",
       "      <td>0.000000</td>\n",
       "      <td>0.000000</td>\n",
       "      <td>0.666667</td>\n",
       "      <td>0.000000</td>\n",
       "      <td>0.000000</td>\n",
       "      <td>1.000000</td>\n",
       "      <td>0.000000</td>\n",
       "      <td>0.000000</td>\n",
       "      <td>0.000000</td>\n",
       "      <td>0.000000</td>\n",
       "      <td>0.000000</td>\n",
       "      <td>1.000000</td>\n",
       "      <td>1.000000</td>\n",
       "      <td>1.000000</td>\n",
       "      <td>1.000000</td>\n",
       "    </tr>\n",
       "    <tr>\n",
       "      <th>max</th>\n",
       "      <td>1.000000</td>\n",
       "      <td>1.000000</td>\n",
       "      <td>7.000000</td>\n",
       "      <td>310.000000</td>\n",
       "      <td>10.000000</td>\n",
       "      <td>1.000000</td>\n",
       "      <td>1.000000</td>\n",
       "      <td>0.806061</td>\n",
       "      <td>1.000000</td>\n",
       "      <td>1.000000</td>\n",
       "      <td>1.000000</td>\n",
       "      <td>1.000000</td>\n",
       "      <td>1.000000</td>\n",
       "      <td>1.000000</td>\n",
       "      <td>1.000000</td>\n",
       "      <td>1.000000</td>\n",
       "      <td>1.000000</td>\n",
       "      <td>1.000000</td>\n",
       "      <td>1.000000</td>\n",
       "      <td>1.000000</td>\n",
       "    </tr>\n",
       "  </tbody>\n",
       "</table>\n",
       "</div>"
      ],
      "text/plain": [
       "       Will_Relocate  last_evaluation  number_project  average_montly_hours  \\\n",
       "count   14999.000000     14999.000000    14999.000000          14999.000000   \n",
       "mean        0.499833         0.716102        3.803054            201.050337   \n",
       "std         0.500017         0.171169        1.232592             49.943099   \n",
       "min         0.000000         0.360000        2.000000             96.000000   \n",
       "25%         0.000000         0.560000        3.000000            156.000000   \n",
       "50%         0.000000         0.720000        4.000000            200.000000   \n",
       "75%         1.000000         0.870000        5.000000            245.000000   \n",
       "max         1.000000         1.000000        7.000000            310.000000   \n",
       "\n",
       "       time_spend_company  Work_accident  promotion_last_5years  Satisfaction  \\\n",
       "count        14999.000000   14999.000000           14999.000000  14999.000000   \n",
       "mean             3.498233       0.144610               0.021268      0.604098   \n",
       "std              1.460136       0.351719               0.144281      0.070502   \n",
       "min              2.000000       0.000000               0.000000      0.393939   \n",
       "25%              3.000000       0.000000               0.000000      0.551515   \n",
       "50%              3.000000       0.000000               0.000000      0.593939   \n",
       "75%              4.000000       0.000000               0.000000      0.666667   \n",
       "max             10.000000       1.000000               1.000000      0.806061   \n",
       "\n",
       "       Role_Director  Role_Level 1  Role_Level 2-4  Role_Manager  \\\n",
       "count   14999.000000  14999.000000    14999.000000  14999.000000   \n",
       "mean        0.044003      0.218015        0.459297      0.161344   \n",
       "std         0.205108      0.412911        0.498357      0.367860   \n",
       "min         0.000000      0.000000        0.000000      0.000000   \n",
       "25%         0.000000      0.000000        0.000000      0.000000   \n",
       "50%         0.000000      0.000000        0.000000      0.000000   \n",
       "75%         0.000000      0.000000        1.000000      0.000000   \n",
       "max         1.000000      1.000000        1.000000      1.000000   \n",
       "\n",
       "       Role_Senior Director  Role_Senior Manager       Role_VP   salary_high  \\\n",
       "count          14999.000000         14999.000000  14999.000000  14999.000000   \n",
       "mean               0.022001             0.088006      0.007334      0.082472   \n",
       "std                0.146693             0.283313      0.085326      0.275092   \n",
       "min                0.000000             0.000000      0.000000      0.000000   \n",
       "25%                0.000000             0.000000      0.000000      0.000000   \n",
       "50%                0.000000             0.000000      0.000000      0.000000   \n",
       "75%                0.000000             0.000000      0.000000      0.000000   \n",
       "max                1.000000             1.000000      1.000000      1.000000   \n",
       "\n",
       "         salary_low  salary_medium      Gender_F      Gender_M  \n",
       "count  14999.000000   14999.000000  14999.000000  14999.000000  \n",
       "mean       0.487766       0.429762      0.506434      0.493566  \n",
       "std        0.499867       0.495059      0.499975      0.499975  \n",
       "min        0.000000       0.000000      0.000000      0.000000  \n",
       "25%        0.000000       0.000000      0.000000      0.000000  \n",
       "50%        0.000000       0.000000      1.000000      0.000000  \n",
       "75%        1.000000       1.000000      1.000000      1.000000  \n",
       "max        1.000000       1.000000      1.000000      1.000000  "
      ]
     },
     "execution_count": 182,
     "metadata": {},
     "output_type": "execute_result"
    }
   ],
   "source": [
    "X.describe()"
   ]
  },
  {
   "cell_type": "markdown",
   "id": "3a297fc8",
   "metadata": {},
   "source": [
    "- We see that columns values are in different scales. We will now standardise the column values"
   ]
  },
  {
   "cell_type": "code",
   "execution_count": 183,
   "id": "34651678",
   "metadata": {},
   "outputs": [
    {
     "data": {
      "text/html": [
       "<div>\n",
       "<style scoped>\n",
       "    .dataframe tbody tr th:only-of-type {\n",
       "        vertical-align: middle;\n",
       "    }\n",
       "\n",
       "    .dataframe tbody tr th {\n",
       "        vertical-align: top;\n",
       "    }\n",
       "\n",
       "    .dataframe thead th {\n",
       "        text-align: right;\n",
       "    }\n",
       "</style>\n",
       "<table border=\"1\" class=\"dataframe\">\n",
       "  <thead>\n",
       "    <tr style=\"text-align: right;\">\n",
       "      <th></th>\n",
       "      <th>Will_Relocate</th>\n",
       "      <th>last_evaluation</th>\n",
       "      <th>number_project</th>\n",
       "      <th>average_montly_hours</th>\n",
       "      <th>time_spend_company</th>\n",
       "      <th>Work_accident</th>\n",
       "      <th>promotion_last_5years</th>\n",
       "      <th>Satisfaction</th>\n",
       "      <th>Role_Director</th>\n",
       "      <th>Role_Level 1</th>\n",
       "      <th>Role_Level 2-4</th>\n",
       "      <th>Role_Manager</th>\n",
       "      <th>Role_Senior Director</th>\n",
       "      <th>Role_Senior Manager</th>\n",
       "      <th>Role_VP</th>\n",
       "      <th>salary_high</th>\n",
       "      <th>salary_low</th>\n",
       "      <th>salary_medium</th>\n",
       "      <th>Gender_F</th>\n",
       "      <th>Gender_M</th>\n",
       "    </tr>\n",
       "  </thead>\n",
       "  <tbody>\n",
       "    <tr>\n",
       "      <th>count</th>\n",
       "      <td>14999.00000</td>\n",
       "      <td>14999.00000</td>\n",
       "      <td>14999.00000</td>\n",
       "      <td>14999.00000</td>\n",
       "      <td>14999.00000</td>\n",
       "      <td>14999.00000</td>\n",
       "      <td>14999.00000</td>\n",
       "      <td>14999.00000</td>\n",
       "      <td>14999.00000</td>\n",
       "      <td>14999.00000</td>\n",
       "      <td>14999.00000</td>\n",
       "      <td>14999.00000</td>\n",
       "      <td>14999.00000</td>\n",
       "      <td>14999.00000</td>\n",
       "      <td>14999.00000</td>\n",
       "      <td>14999.00000</td>\n",
       "      <td>14999.00000</td>\n",
       "      <td>14999.00000</td>\n",
       "      <td>14999.00000</td>\n",
       "      <td>14999.00000</td>\n",
       "    </tr>\n",
       "    <tr>\n",
       "      <th>mean</th>\n",
       "      <td>-0.00000</td>\n",
       "      <td>0.00000</td>\n",
       "      <td>0.00000</td>\n",
       "      <td>-0.00000</td>\n",
       "      <td>-0.00000</td>\n",
       "      <td>0.00000</td>\n",
       "      <td>0.00000</td>\n",
       "      <td>0.00000</td>\n",
       "      <td>0.00000</td>\n",
       "      <td>0.00000</td>\n",
       "      <td>-0.00000</td>\n",
       "      <td>-0.00000</td>\n",
       "      <td>0.00000</td>\n",
       "      <td>0.00000</td>\n",
       "      <td>-0.00000</td>\n",
       "      <td>-0.00000</td>\n",
       "      <td>-0.00000</td>\n",
       "      <td>-0.00000</td>\n",
       "      <td>-0.00000</td>\n",
       "      <td>0.00000</td>\n",
       "    </tr>\n",
       "    <tr>\n",
       "      <th>std</th>\n",
       "      <td>1.00003</td>\n",
       "      <td>1.00003</td>\n",
       "      <td>1.00003</td>\n",
       "      <td>1.00003</td>\n",
       "      <td>1.00003</td>\n",
       "      <td>1.00003</td>\n",
       "      <td>1.00003</td>\n",
       "      <td>1.00003</td>\n",
       "      <td>1.00003</td>\n",
       "      <td>1.00003</td>\n",
       "      <td>1.00003</td>\n",
       "      <td>1.00003</td>\n",
       "      <td>1.00003</td>\n",
       "      <td>1.00003</td>\n",
       "      <td>1.00003</td>\n",
       "      <td>1.00003</td>\n",
       "      <td>1.00003</td>\n",
       "      <td>1.00003</td>\n",
       "      <td>1.00003</td>\n",
       "      <td>1.00003</td>\n",
       "    </tr>\n",
       "    <tr>\n",
       "      <th>min</th>\n",
       "      <td>-0.99967</td>\n",
       "      <td>-2.08048</td>\n",
       "      <td>-1.46286</td>\n",
       "      <td>-2.10347</td>\n",
       "      <td>-1.02613</td>\n",
       "      <td>-0.41117</td>\n",
       "      <td>-0.14741</td>\n",
       "      <td>-2.98099</td>\n",
       "      <td>-0.21454</td>\n",
       "      <td>-0.52801</td>\n",
       "      <td>-0.92165</td>\n",
       "      <td>-0.43862</td>\n",
       "      <td>-0.14999</td>\n",
       "      <td>-0.31064</td>\n",
       "      <td>-0.08595</td>\n",
       "      <td>-0.29981</td>\n",
       "      <td>-0.97582</td>\n",
       "      <td>-0.86813</td>\n",
       "      <td>-1.01295</td>\n",
       "      <td>-0.98721</td>\n",
       "    </tr>\n",
       "    <tr>\n",
       "      <th>25%</th>\n",
       "      <td>-0.99967</td>\n",
       "      <td>-0.91200</td>\n",
       "      <td>-0.65154</td>\n",
       "      <td>-0.90206</td>\n",
       "      <td>-0.34124</td>\n",
       "      <td>-0.41117</td>\n",
       "      <td>-0.14741</td>\n",
       "      <td>-0.74586</td>\n",
       "      <td>-0.21454</td>\n",
       "      <td>-0.52801</td>\n",
       "      <td>-0.92165</td>\n",
       "      <td>-0.43862</td>\n",
       "      <td>-0.14999</td>\n",
       "      <td>-0.31064</td>\n",
       "      <td>-0.08595</td>\n",
       "      <td>-0.29981</td>\n",
       "      <td>-0.97582</td>\n",
       "      <td>-0.86813</td>\n",
       "      <td>-1.01295</td>\n",
       "      <td>-0.98721</td>\n",
       "    </tr>\n",
       "    <tr>\n",
       "      <th>50%</th>\n",
       "      <td>-0.99967</td>\n",
       "      <td>0.02278</td>\n",
       "      <td>0.15979</td>\n",
       "      <td>-0.02103</td>\n",
       "      <td>-0.34124</td>\n",
       "      <td>-0.41117</td>\n",
       "      <td>-0.14741</td>\n",
       "      <td>-0.14410</td>\n",
       "      <td>-0.21454</td>\n",
       "      <td>-0.52801</td>\n",
       "      <td>-0.92165</td>\n",
       "      <td>-0.43862</td>\n",
       "      <td>-0.14999</td>\n",
       "      <td>-0.31064</td>\n",
       "      <td>-0.08595</td>\n",
       "      <td>-0.29981</td>\n",
       "      <td>-0.97582</td>\n",
       "      <td>-0.86813</td>\n",
       "      <td>0.98721</td>\n",
       "      <td>-0.98721</td>\n",
       "    </tr>\n",
       "    <tr>\n",
       "      <th>75%</th>\n",
       "      <td>1.00033</td>\n",
       "      <td>0.89913</td>\n",
       "      <td>0.97111</td>\n",
       "      <td>0.88002</td>\n",
       "      <td>0.34366</td>\n",
       "      <td>-0.41117</td>\n",
       "      <td>-0.14741</td>\n",
       "      <td>0.88750</td>\n",
       "      <td>-0.21454</td>\n",
       "      <td>-0.52801</td>\n",
       "      <td>1.08501</td>\n",
       "      <td>-0.43862</td>\n",
       "      <td>-0.14999</td>\n",
       "      <td>-0.31064</td>\n",
       "      <td>-0.08595</td>\n",
       "      <td>-0.29981</td>\n",
       "      <td>1.02478</td>\n",
       "      <td>1.15190</td>\n",
       "      <td>0.98721</td>\n",
       "      <td>1.01295</td>\n",
       "    </tr>\n",
       "    <tr>\n",
       "      <th>max</th>\n",
       "      <td>1.00033</td>\n",
       "      <td>1.65864</td>\n",
       "      <td>2.59376</td>\n",
       "      <td>2.18155</td>\n",
       "      <td>4.45300</td>\n",
       "      <td>2.43211</td>\n",
       "      <td>6.78372</td>\n",
       "      <td>2.86473</td>\n",
       "      <td>4.66109</td>\n",
       "      <td>1.89390</td>\n",
       "      <td>1.08501</td>\n",
       "      <td>2.27990</td>\n",
       "      <td>6.66720</td>\n",
       "      <td>3.21914</td>\n",
       "      <td>11.63420</td>\n",
       "      <td>3.33546</td>\n",
       "      <td>1.02478</td>\n",
       "      <td>1.15190</td>\n",
       "      <td>0.98721</td>\n",
       "      <td>1.01295</td>\n",
       "    </tr>\n",
       "  </tbody>\n",
       "</table>\n",
       "</div>"
      ],
      "text/plain": [
       "       Will_Relocate  last_evaluation  number_project  average_montly_hours  \\\n",
       "count    14999.00000      14999.00000     14999.00000           14999.00000   \n",
       "mean        -0.00000          0.00000         0.00000              -0.00000   \n",
       "std          1.00003          1.00003         1.00003               1.00003   \n",
       "min         -0.99967         -2.08048        -1.46286              -2.10347   \n",
       "25%         -0.99967         -0.91200        -0.65154              -0.90206   \n",
       "50%         -0.99967          0.02278         0.15979              -0.02103   \n",
       "75%          1.00033          0.89913         0.97111               0.88002   \n",
       "max          1.00033          1.65864         2.59376               2.18155   \n",
       "\n",
       "       time_spend_company  Work_accident  promotion_last_5years  Satisfaction  \\\n",
       "count         14999.00000    14999.00000            14999.00000   14999.00000   \n",
       "mean             -0.00000        0.00000                0.00000       0.00000   \n",
       "std               1.00003        1.00003                1.00003       1.00003   \n",
       "min              -1.02613       -0.41117               -0.14741      -2.98099   \n",
       "25%              -0.34124       -0.41117               -0.14741      -0.74586   \n",
       "50%              -0.34124       -0.41117               -0.14741      -0.14410   \n",
       "75%               0.34366       -0.41117               -0.14741       0.88750   \n",
       "max               4.45300        2.43211                6.78372       2.86473   \n",
       "\n",
       "       Role_Director  Role_Level 1  Role_Level 2-4  Role_Manager  \\\n",
       "count    14999.00000   14999.00000     14999.00000   14999.00000   \n",
       "mean         0.00000       0.00000        -0.00000      -0.00000   \n",
       "std          1.00003       1.00003         1.00003       1.00003   \n",
       "min         -0.21454      -0.52801        -0.92165      -0.43862   \n",
       "25%         -0.21454      -0.52801        -0.92165      -0.43862   \n",
       "50%         -0.21454      -0.52801        -0.92165      -0.43862   \n",
       "75%         -0.21454      -0.52801         1.08501      -0.43862   \n",
       "max          4.66109       1.89390         1.08501       2.27990   \n",
       "\n",
       "       Role_Senior Director  Role_Senior Manager      Role_VP  salary_high  \\\n",
       "count           14999.00000          14999.00000  14999.00000  14999.00000   \n",
       "mean                0.00000              0.00000     -0.00000     -0.00000   \n",
       "std                 1.00003              1.00003      1.00003      1.00003   \n",
       "min                -0.14999             -0.31064     -0.08595     -0.29981   \n",
       "25%                -0.14999             -0.31064     -0.08595     -0.29981   \n",
       "50%                -0.14999             -0.31064     -0.08595     -0.29981   \n",
       "75%                -0.14999             -0.31064     -0.08595     -0.29981   \n",
       "max                 6.66720              3.21914     11.63420      3.33546   \n",
       "\n",
       "        salary_low  salary_medium     Gender_F     Gender_M  \n",
       "count  14999.00000    14999.00000  14999.00000  14999.00000  \n",
       "mean      -0.00000       -0.00000     -0.00000      0.00000  \n",
       "std        1.00003        1.00003      1.00003      1.00003  \n",
       "min       -0.97582       -0.86813     -1.01295     -0.98721  \n",
       "25%       -0.97582       -0.86813     -1.01295     -0.98721  \n",
       "50%       -0.97582       -0.86813      0.98721     -0.98721  \n",
       "75%        1.02478        1.15190      0.98721      1.01295  \n",
       "max        1.02478        1.15190      0.98721      1.01295  "
      ]
     },
     "execution_count": 183,
     "metadata": {},
     "output_type": "execute_result"
    }
   ],
   "source": [
    "col_names = X.columns\n",
    "\n",
    "from sklearn import preprocessing\n",
    "standardisation = preprocessing.StandardScaler()\n",
    "X = standardisation.fit_transform(X)\n",
    "X = pd.DataFrame(X,columns = col_names)\n",
    "np.round(X.describe(),5)"
   ]
  },
  {
   "cell_type": "markdown",
   "id": "e6ab35df",
   "metadata": {},
   "source": [
    "- Now our dataset is standardised (Standardize features by removing the mean and scaling to unit variance.)"
   ]
  },
  {
   "cell_type": "markdown",
   "id": "55330877",
   "metadata": {},
   "source": [
    "# 4. Modelling"
   ]
  },
  {
   "cell_type": "markdown",
   "id": "c969dfdb",
   "metadata": {},
   "source": [
    "A classification model tries to draw some conclusion from the input values given for training. It will predict the class labels/categories for the new data."
   ]
  },
  {
   "cell_type": "markdown",
   "id": "d15cf8bd",
   "metadata": {},
   "source": [
    "Some of the common types of classification algorithms are: Logistic Regression, K-Nearest Neighbours, Support Vector Machine, Decision Tree, and Random Forest."
   ]
  },
  {
   "cell_type": "markdown",
   "id": "ca8c03ce",
   "metadata": {},
   "source": [
    "- The main steps involved in building a classification model:\n",
    "\n",
    "  1. Initialize the classifier.\n",
    "  2. Train the classifier.\n",
    "  3. Predict the target.\n",
    "  4. Evaluate the classification model."
   ]
  },
  {
   "cell_type": "markdown",
   "id": "88f67e5f",
   "metadata": {},
   "source": [
    "<B>Building the various Classification models<B>"
   ]
  },
  {
   "cell_type": "code",
   "execution_count": 184,
   "id": "fe12d26e",
   "metadata": {},
   "outputs": [],
   "source": [
    "# importing alll the necessary libraries to use in various classification algorithms\n",
    "from sklearn.linear_model import LogisticRegression  # for Logistic Regression algorithm\n",
    "from sklearn.neighbors import KNeighborsClassifier  # for K Nearest Neighbours\n",
    "from sklearn.svm import SVC # for Support Vector Machine (SVM) Classifier Algorithm\n",
    "from sklearn.tree import DecisionTreeClassifier #for using Decision Tree Algoithm\n",
    "from sklearn.ensemble import RandomForestClassifier #for using Random Forest Algoithm"
   ]
  },
  {
   "cell_type": "code",
   "execution_count": 185,
   "id": "eb05bb58",
   "metadata": {},
   "outputs": [],
   "source": [
    "# importing necessary libraries for checking the model accuracy\n",
    "from sklearn.metrics import confusion_matrix\n",
    "from sklearn.metrics import accuracy_score\n",
    "from sklearn.metrics import f1_score"
   ]
  },
  {
   "cell_type": "code",
   "execution_count": 186,
   "id": "ae9e0b8c",
   "metadata": {},
   "outputs": [],
   "source": [
    "from sklearn.model_selection import train_test_split\n",
    "X_train, X_test, y_train, y_test = train_test_split(X, y, random_state = 42, test_size = 0.3)"
   ]
  },
  {
   "cell_type": "markdown",
   "id": "4504e2e8",
   "metadata": {},
   "source": [
    "<B>1. Logistic Regression<B>"
   ]
  },
  {
   "cell_type": "code",
   "execution_count": 187,
   "id": "74629862",
   "metadata": {},
   "outputs": [
    {
     "data": {
      "text/plain": [
       "array([[3278,  180],\n",
       "       [ 218,  824]], dtype=int64)"
      ]
     },
     "execution_count": 187,
     "metadata": {},
     "output_type": "execute_result"
    }
   ],
   "source": [
    "logit_model = LogisticRegression(max_iter = 700)\n",
    "#training the model\n",
    "logit_model.fit(X_train,y_train) \n",
    "#predicting the data\n",
    "y_predictions = logit_model.predict(X_test)\n",
    "#measuring performance\n",
    "logit_model_as = accuracy_score(y_test,y_predictions)\n",
    "logit_model_f1 = f1_score(y_test,y_predictions)\n",
    "\n",
    "confusion_matrix(y_test,y_predictions)"
   ]
  },
  {
   "cell_type": "markdown",
   "id": "eab7cc4a",
   "metadata": {},
   "source": [
    "<B>2. K-Nearest Neighbours(KNN)<B>"
   ]
  },
  {
   "cell_type": "markdown",
   "id": "1ddef24c",
   "metadata": {},
   "source": [
    "- Neighbours based classification is a type of lazy learning as it does not attempt to construct a general internal model, but simply stores instances of the training data. Classification is computed from a simple majority vote of the k nearest neighbours of each point."
   ]
  },
  {
   "cell_type": "code",
   "execution_count": 188,
   "id": "056330ef",
   "metadata": {},
   "outputs": [
    {
     "data": {
      "image/png": "[encoded data removed]",
      "text/plain": [
       "<Figure size 432x288 with 1 Axes>"
      ]
     },
     "metadata": {
      "needs_background": "light"
     },
     "output_type": "display_data"
    }
   ],
   "source": [
    "# Experimenting with different k values\n",
    "\n",
    "k_range = list(range(1,15))\n",
    "scores = []\n",
    "for k in k_range:\n",
    "    knn = KNeighborsClassifier(n_neighbors=k)\n",
    "    knn.fit(X_train,y_train)\n",
    "    y_predictions = knn.predict(X_test)\n",
    "    scores.append(accuracy_score(y_test, y_predictions))\n",
    "    \n",
    "plt.plot(k_range, scores,marker=\"o\")\n",
    "plt.xlabel('Value of k for KNN')\n",
    "plt.ylabel('Accuracy Score')\n",
    "plt.title('Accuracy Scores for Values of k of K-Nearest-Neighbors')\n",
    "plt.grid()\n",
    "plt.show()  "
   ]
  },
  {
   "cell_type": "code",
   "execution_count": 189,
   "id": "bf3bd1a9",
   "metadata": {},
   "outputs": [],
   "source": [
    "# For this particular dataset, we obtain the highest accuracy when k=6."
   ]
  },
  {
   "cell_type": "code",
   "execution_count": 190,
   "id": "1128502e",
   "metadata": {},
   "outputs": [
    {
     "data": {
      "text/plain": [
       "array([[3391,   67],\n",
       "       [ 147,  895]], dtype=int64)"
      ]
     },
     "execution_count": 190,
     "metadata": {},
     "output_type": "execute_result"
    }
   ],
   "source": [
    "knn_model = KNeighborsClassifier(n_neighbors=6)\n",
    "knn_model.fit(X_train,y_train)\n",
    "y_predictions = knn_model.predict(X_test)\n",
    "\n",
    "knn_model_as = accuracy_score(y_test,y_predictions)\n",
    "knn_model_f1 = f1_score(y_test,y_predictions)\n",
    "\n",
    "confusion_matrix(y_test,y_predictions)"
   ]
  },
  {
   "cell_type": "markdown",
   "id": "e954142c",
   "metadata": {},
   "source": [
    "<B>3. Support Vector Machine (SVM)<B>"
   ]
  },
  {
   "cell_type": "markdown",
   "id": "8408233c",
   "metadata": {},
   "source": [
    "- Support vector machine is a representation of the training data as points in space separated into categories by a clear gap that is as wide as possible. New examples are then mapped into that same space and predicted to belong to a category based on which side of the gap they fall."
   ]
  },
  {
   "cell_type": "code",
   "execution_count": 191,
   "id": "1c084bfe",
   "metadata": {},
   "outputs": [
    {
     "data": {
      "text/plain": [
       "array([[3410,   48],\n",
       "       [  75,  967]], dtype=int64)"
      ]
     },
     "execution_count": 191,
     "metadata": {},
     "output_type": "execute_result"
    }
   ],
   "source": [
    "svm_model = SVC(kernel = 'rbf') \n",
    "svm_model.fit(X_train,y_train) \n",
    "y_predictions = svm_model.predict(X_test) \n",
    "\n",
    "svm_model_as = accuracy_score(y_test,y_predictions)\n",
    "svm_model_f1 = f1_score(y_test,y_predictions)\n",
    "\n",
    "confusion_matrix(y_test,y_predictions)"
   ]
  },
  {
   "cell_type": "markdown",
   "id": "a92945ee",
   "metadata": {},
   "source": [
    "<b>4. Decision Tree<B>"
   ]
  },
  {
   "cell_type": "markdown",
   "id": "3bf29d99",
   "metadata": {},
   "source": [
    "- Given a data of attributes together with its classes, a decision tree produces a sequence of rules that can be used to classify the data."
   ]
  },
  {
   "cell_type": "code",
   "execution_count": 192,
   "id": "28cd937b",
   "metadata": {},
   "outputs": [
    {
     "data": {
      "text/plain": [
       "array([[3394,   64],\n",
       "       [  46,  996]], dtype=int64)"
      ]
     },
     "execution_count": 192,
     "metadata": {},
     "output_type": "execute_result"
    }
   ],
   "source": [
    "dTree_model = DecisionTreeClassifier()\n",
    "dTree_model.fit(X_train,y_train)\n",
    "y_predictions = dTree_model.predict(X_test)\n",
    "\n",
    "dTree_model_as = accuracy_score(y_test,y_predictions)\n",
    "dTree_model_f1 = f1_score(y_test,y_predictions)\n",
    "\n",
    "confusion_matrix(y_test,y_predictions)"
   ]
  },
  {
   "cell_type": "markdown",
   "id": "bd537717",
   "metadata": {},
   "source": [
    "<b>5. Creating a Random Forest algorithm<b>"
   ]
  },
  {
   "cell_type": "markdown",
   "id": "f38c2bdf",
   "metadata": {},
   "source": [
    "- Random forest classifier is a meta-estimator that fits a number of decision trees on various sub-samples of datasets and uses average to improve the predictive accuracy of the model and controls over-fitting. The sub-sample size is always the same as the original input sample size but the samples are drawn with replacement."
   ]
  },
  {
   "cell_type": "code",
   "execution_count": 193,
   "id": "6a1ef457",
   "metadata": {},
   "outputs": [
    {
     "data": {
      "text/plain": [
       "array([[3440,   18],\n",
       "       [  57,  985]], dtype=int64)"
      ]
     },
     "execution_count": 193,
     "metadata": {},
     "output_type": "execute_result"
    }
   ],
   "source": [
    "rForest_model = RandomForestClassifier()\n",
    "rForest_model.fit(X_train,y_train)\n",
    "y_predictions = rForest_model.predict(X_test)\n",
    "\n",
    "rForest_model_as = accuracy_score(y_test,y_predictions)\n",
    "rForest_model_f1 = f1_score(y_test,y_predictions)\n",
    "\n",
    "confusion_matrix(y_test,y_predictions)"
   ]
  },
  {
   "cell_type": "markdown",
   "id": "d0970501",
   "metadata": {},
   "source": [
    "<b> Comparing the Accuracy and F1 scores of diffrent models<b>"
   ]
  },
  {
   "cell_type": "code",
   "execution_count": 194,
   "id": "9b162923",
   "metadata": {},
   "outputs": [
    {
     "data": {
      "text/html": [
       "<style type=\"text/css\">\n",
       "</style>\n",
       "<table id=\"T_c1d6a_\">\n",
       "  <thead>\n",
       "    <tr>\n",
       "      <th class=\"col_heading level0 col0\" >Model</th>\n",
       "      <th class=\"col_heading level0 col1\" >Accuracy</th>\n",
       "      <th class=\"col_heading level0 col2\" >F1-score</th>\n",
       "    </tr>\n",
       "  </thead>\n",
       "  <tbody>\n",
       "    <tr>\n",
       "      <td id=\"T_c1d6a_row0_col0\" class=\"data row0 col0\" >Logistic Regression</td>\n",
       "      <td id=\"T_c1d6a_row0_col1\" class=\"data row0 col1\" >0.911556</td>\n",
       "      <td id=\"T_c1d6a_row0_col2\" class=\"data row0 col2\" >0.805474</td>\n",
       "    </tr>\n",
       "    <tr>\n",
       "      <td id=\"T_c1d6a_row1_col0\" class=\"data row1 col0\" >K-Nearest Neighbours</td>\n",
       "      <td id=\"T_c1d6a_row1_col1\" class=\"data row1 col1\" >0.952444</td>\n",
       "      <td id=\"T_c1d6a_row1_col2\" class=\"data row1 col2\" >0.893214</td>\n",
       "    </tr>\n",
       "    <tr>\n",
       "      <td id=\"T_c1d6a_row2_col0\" class=\"data row2 col0\" >Support Vector Machine</td>\n",
       "      <td id=\"T_c1d6a_row2_col1\" class=\"data row2 col1\" >0.972667</td>\n",
       "      <td id=\"T_c1d6a_row2_col2\" class=\"data row2 col2\" >0.940204</td>\n",
       "    </tr>\n",
       "    <tr>\n",
       "      <td id=\"T_c1d6a_row3_col0\" class=\"data row3 col0\" >Decision Tree</td>\n",
       "      <td id=\"T_c1d6a_row3_col1\" class=\"data row3 col1\" >0.975556</td>\n",
       "      <td id=\"T_c1d6a_row3_col2\" class=\"data row3 col2\" >0.947669</td>\n",
       "    </tr>\n",
       "    <tr>\n",
       "      <td id=\"T_c1d6a_row4_col0\" class=\"data row4 col0\" >Random Forest</td>\n",
       "      <td id=\"T_c1d6a_row4_col1\" class=\"data row4 col1\" >0.983333</td>\n",
       "      <td id=\"T_c1d6a_row4_col2\" class=\"data row4 col2\" >0.963325</td>\n",
       "    </tr>\n",
       "  </tbody>\n",
       "</table>\n"
      ],
      "text/plain": [
       "<pandas.io.formats.style.Styler at 0x252b1781400>"
      ]
     },
     "execution_count": 194,
     "metadata": {},
     "output_type": "execute_result"
    }
   ],
   "source": [
    "score = pd.DataFrame({'Model' : ['Logistic Regression', 'K-Nearest Neighbours', 'Support Vector Machine', 'Decision Tree', 'Random Forest'],\n",
    "                      'Accuracy' : [logit_model_as , knn_model_as, svm_model_as, dTree_model_as, rForest_model_as ],\n",
    "                      'F1-score' : [logit_model_f1,knn_model_f1,svm_model_f1, dTree_model_f1, rForest_model_f1]})\n",
    "score.style.hide_index() \n"
   ]
  },
  {
   "cell_type": "markdown",
   "id": "e654bb37",
   "metadata": {},
   "source": [
    "- From the above table, we can see that all the models are good and from those Random Forest and SVM models are the best models for this data set."
   ]
  },
  {
   "cell_type": "markdown",
   "id": "73cea582",
   "metadata": {},
   "source": [
    "# 5) Model fine tuning"
   ]
  },
  {
   "cell_type": "markdown",
   "id": "cc0a8b00",
   "metadata": {},
   "source": [
    "#### 1. Feature importances"
   ]
  },
  {
   "cell_type": "code",
   "execution_count": 195,
   "id": "1f7594dd",
   "metadata": {},
   "outputs": [
    {
     "data": {
      "text/html": [
       "<div>\n",
       "<style scoped>\n",
       "    .dataframe tbody tr th:only-of-type {\n",
       "        vertical-align: middle;\n",
       "    }\n",
       "\n",
       "    .dataframe tbody tr th {\n",
       "        vertical-align: top;\n",
       "    }\n",
       "\n",
       "    .dataframe thead th {\n",
       "        text-align: right;\n",
       "    }\n",
       "</style>\n",
       "<table border=\"1\" class=\"dataframe\">\n",
       "  <thead>\n",
       "    <tr style=\"text-align: right;\">\n",
       "      <th></th>\n",
       "      <th>Feature Importance</th>\n",
       "    </tr>\n",
       "  </thead>\n",
       "  <tbody>\n",
       "    <tr>\n",
       "      <th>Satisfaction</th>\n",
       "      <td>35.434438</td>\n",
       "    </tr>\n",
       "    <tr>\n",
       "      <th>number_project</th>\n",
       "      <td>16.504616</td>\n",
       "    </tr>\n",
       "    <tr>\n",
       "      <th>last_evaluation</th>\n",
       "      <td>16.344360</td>\n",
       "    </tr>\n",
       "    <tr>\n",
       "      <th>average_montly_hours</th>\n",
       "      <td>14.288603</td>\n",
       "    </tr>\n",
       "    <tr>\n",
       "      <th>time_spend_company</th>\n",
       "      <td>12.462753</td>\n",
       "    </tr>\n",
       "    <tr>\n",
       "      <th>Work_accident</th>\n",
       "      <td>0.989071</td>\n",
       "    </tr>\n",
       "    <tr>\n",
       "      <th>salary_low</th>\n",
       "      <td>0.855661</td>\n",
       "    </tr>\n",
       "    <tr>\n",
       "      <th>Will_Relocate</th>\n",
       "      <td>0.445667</td>\n",
       "    </tr>\n",
       "    <tr>\n",
       "      <th>salary_high</th>\n",
       "      <td>0.437683</td>\n",
       "    </tr>\n",
       "    <tr>\n",
       "      <th>salary_medium</th>\n",
       "      <td>0.317189</td>\n",
       "    </tr>\n",
       "    <tr>\n",
       "      <th>Role_Level 1</th>\n",
       "      <td>0.306369</td>\n",
       "    </tr>\n",
       "    <tr>\n",
       "      <th>Role_Level 2-4</th>\n",
       "      <td>0.282731</td>\n",
       "    </tr>\n",
       "    <tr>\n",
       "      <th>Gender_F</th>\n",
       "      <td>0.268066</td>\n",
       "    </tr>\n",
       "    <tr>\n",
       "      <th>Gender_M</th>\n",
       "      <td>0.265102</td>\n",
       "    </tr>\n",
       "    <tr>\n",
       "      <th>Role_Manager</th>\n",
       "      <td>0.216870</td>\n",
       "    </tr>\n",
       "    <tr>\n",
       "      <th>Role_Senior Manager</th>\n",
       "      <td>0.175752</td>\n",
       "    </tr>\n",
       "    <tr>\n",
       "      <th>promotion_last_5years</th>\n",
       "      <td>0.158373</td>\n",
       "    </tr>\n",
       "    <tr>\n",
       "      <th>Role_Director</th>\n",
       "      <td>0.121109</td>\n",
       "    </tr>\n",
       "    <tr>\n",
       "      <th>Role_Senior Director</th>\n",
       "      <td>0.081736</td>\n",
       "    </tr>\n",
       "    <tr>\n",
       "      <th>Role_VP</th>\n",
       "      <td>0.043849</td>\n",
       "    </tr>\n",
       "  </tbody>\n",
       "</table>\n",
       "</div>"
      ],
      "text/plain": [
       "                       Feature Importance\n",
       "Satisfaction                    35.434438\n",
       "number_project                  16.504616\n",
       "last_evaluation                 16.344360\n",
       "average_montly_hours            14.288603\n",
       "time_spend_company              12.462753\n",
       "Work_accident                    0.989071\n",
       "salary_low                       0.855661\n",
       "Will_Relocate                    0.445667\n",
       "salary_high                      0.437683\n",
       "salary_medium                    0.317189\n",
       "Role_Level 1                     0.306369\n",
       "Role_Level 2-4                   0.282731\n",
       "Gender_F                         0.268066\n",
       "Gender_M                         0.265102\n",
       "Role_Manager                     0.216870\n",
       "Role_Senior Manager              0.175752\n",
       "promotion_last_5years            0.158373\n",
       "Role_Director                    0.121109\n",
       "Role_Senior Director             0.081736\n",
       "Role_VP                          0.043849"
      ]
     },
     "execution_count": 195,
     "metadata": {},
     "output_type": "execute_result"
    }
   ],
   "source": [
    "pd.DataFrame(rForest_model.feature_importances_ , index = X.columns, columns = ['Feature Importance']).sort_values(by='Feature Importance',ascending=False)*100"
   ]
  },
  {
   "cell_type": "markdown",
   "id": "886eaafa",
   "metadata": {},
   "source": [
    "- We will drop the features with a low Feature Importance score and re-check if it is improving our model."
   ]
  },
  {
   "cell_type": "code",
   "execution_count": 196,
   "id": "591c289d",
   "metadata": {},
   "outputs": [
    {
     "name": "stdout",
     "output_type": "stream",
     "text": [
      "Accuracy score is: 0.9846666666666667\n",
      "F1 score is: 0.9681587448084911\n"
     ]
    },
    {
     "data": {
      "text/plain": [
       "array([[3382,   20],\n",
       "       [  49, 1049]], dtype=int64)"
      ]
     },
     "execution_count": 196,
     "metadata": {},
     "output_type": "execute_result"
    }
   ],
   "source": [
    "X_sub = X.drop(['Role_VP','promotion_last_5years','Role_Senior Director','Role_Senior Manager','Role_Manager','salary_medium','Role_Level 1','Gender_M','Gender_F'],axis = 1)\n",
    "X_train, X_test, y_train, y_test = train_test_split(X_sub, y, random_state = 2, test_size = .3)\n",
    "rf = RandomForestClassifier()\n",
    "rf.fit(X_train,y_train)\n",
    "y_predictions = rf.predict(X_test)\n",
    "\n",
    "print('Accuracy score is:', accuracy_score(y_test,y_predictions))\n",
    "print('F1 score is:', f1_score(y_test,y_predictions))\n",
    "confusion_matrix(y_test,y_predictions)"
   ]
  },
  {
   "cell_type": "markdown",
   "id": "0e4a089b",
   "metadata": {},
   "source": [
    "- We see that it not improved our model "
   ]
  },
  {
   "cell_type": "code",
   "execution_count": null,
   "id": "e8048ea1",
   "metadata": {},
   "outputs": [],
   "source": []
  },
  {
   "cell_type": "markdown",
   "id": "b0ccd5b9",
   "metadata": {},
   "source": [
    "#### 2. Fine Tuning of Hyperparameters"
   ]
  },
  {
   "cell_type": "markdown",
   "id": "cda0f9e0",
   "metadata": {},
   "source": [
    "Hyperparameters are those parameters which can be arbitrarily set by the user before starting training (eg. number of estimators in Random Forest)."
   ]
  },
  {
   "cell_type": "markdown",
   "id": "aa508e6d",
   "metadata": {},
   "source": [
    "We have a set of hyperparameters and we aim to find the right combination of their values which can help us to improve our model performance."
   ]
  },
  {
   "cell_type": "code",
   "execution_count": null,
   "id": "2ca4f971",
   "metadata": {},
   "outputs": [],
   "source": []
  },
  {
   "cell_type": "markdown",
   "id": "b868a41b",
   "metadata": {},
   "source": [
    "The scores with-out Tuning of Hyperparameters\n",
    "- Accuracy score is: 0.984000\n",
    "- F1 score is: 0.964706"
   ]
  },
  {
   "cell_type": "code",
   "execution_count": 197,
   "id": "ad3e223f",
   "metadata": {},
   "outputs": [],
   "source": [
    "# Set n_estimators = 100, criterion = 'entropy', max_depth = 10, and random_state = 42"
   ]
  },
  {
   "cell_type": "code",
   "execution_count": 198,
   "id": "a9c94f2f",
   "metadata": {},
   "outputs": [
    {
     "name": "stdout",
     "output_type": "stream",
     "text": [
      "Accuracy score is: 0.9833333333333333\n",
      "F1 score is: 0.9653259361997226\n"
     ]
    },
    {
     "data": {
      "text/plain": [
       "array([[3381,   21],\n",
       "       [  54, 1044]], dtype=int64)"
      ]
     },
     "execution_count": 198,
     "metadata": {},
     "output_type": "execute_result"
    }
   ],
   "source": [
    "rft_mod2 = RandomForestClassifier(n_estimators = 100, criterion = 'entropy', max_depth = 10, random_state = 42 )\n",
    "rft_mod2.fit(X_train, y_train)\n",
    "y_predictions = rft_mod2.predict(X_test)\n",
    "\n",
    "print('Accuracy score is:', accuracy_score(y_test,y_predictions))\n",
    "print('F1 score is:', f1_score(y_test,y_predictions))\n",
    "\n",
    "confusion_matrix(y_test,y_predictions)"
   ]
  },
  {
   "cell_type": "markdown",
   "id": "8d8b5232",
   "metadata": {},
   "source": [
    "- Not much improvement"
   ]
  },
  {
   "cell_type": "code",
   "execution_count": 199,
   "id": "6af2c369",
   "metadata": {},
   "outputs": [],
   "source": [
    "# Set n_estimators = 500, criterion = 'entropy', max_depth = 20, and random_state = 42"
   ]
  },
  {
   "cell_type": "code",
   "execution_count": 200,
   "id": "975c8768",
   "metadata": {},
   "outputs": [
    {
     "name": "stdout",
     "output_type": "stream",
     "text": [
      "Accuracy score is: 0.9848888888888889\n",
      "F1 score is: 0.9686635944700461\n"
     ]
    },
    {
     "data": {
      "text/plain": [
       "array([[3381,   21],\n",
       "       [  47, 1051]], dtype=int64)"
      ]
     },
     "execution_count": 200,
     "metadata": {},
     "output_type": "execute_result"
    }
   ],
   "source": [
    "rft_mod3 = RandomForestClassifier(n_estimators = 500, criterion = 'entropy', max_depth = 20, random_state = 42 )\n",
    "rft_mod3.fit(X_train, y_train)\n",
    "y_predictions = rft_mod3.predict(X_test)\n",
    "\n",
    "print('Accuracy score is:', accuracy_score(y_test,y_predictions))\n",
    "print('F1 score is:', f1_score(y_test,y_predictions))\n",
    "\n",
    "confusion_matrix(y_test,y_predictions)"
   ]
  },
  {
   "cell_type": "markdown",
   "id": "2167bf44",
   "metadata": {},
   "source": [
    "- a slight improvment"
   ]
  },
  {
   "cell_type": "markdown",
   "id": "4abb118d",
   "metadata": {},
   "source": [
    "- We do not see any significance improvement in the model performance. We understand that the orginal model itself providing us good accuracy and F1 score, so we will continue with our model."
   ]
  },
  {
   "cell_type": "code",
   "execution_count": null,
   "id": "59715c46",
   "metadata": {},
   "outputs": [],
   "source": []
  },
  {
   "cell_type": "markdown",
   "id": "4c194bd1",
   "metadata": {},
   "source": [
    "Thank You."
   ]
  },
  {
   "cell_type": "code",
   "execution_count": null,
   "id": "91abbb19",
   "metadata": {},
   "outputs": [],
   "source": []
  }
 ],
 "metadata": {
  "kernelspec": {
   "display_name": "Python 3 (ipykernel)",
   "language": "python",
   "name": "python3"
  },
  "language_info": {
   "codemirror_mode": {
    "name": "ipython",
    "version": 3
   },
   "file_extension": ".py",
   "mimetype": "text/x-python",
   "name": "python",
   "nbconvert_exporter": "python",
   "pygments_lexer": "ipython3",
   "version": "3.8.12"
  }
 },
 "nbformat": 4,
 "nbformat_minor": 5
}
